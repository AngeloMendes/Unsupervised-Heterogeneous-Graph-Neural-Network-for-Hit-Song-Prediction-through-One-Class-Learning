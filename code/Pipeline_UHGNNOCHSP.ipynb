{
  "cells": [
    {
      "cell_type": "markdown",
      "metadata": {
        "id": "-Xz7se1wG5CV"
      },
      "source": [
        "# Load and prepare the dataset"
      ]
    },
    {
      "cell_type": "code",
      "execution_count": null,
      "metadata": {
        "colab": {
          "base_uri": "https://localhost:8080/"
        },
        "id": "nv1x0h6gEBO8",
        "outputId": "670254be-97bd-4be5-dfba-2c1e41212e82"
      },
      "outputs": [
        {
          "output_type": "stream",
          "name": "stdout",
          "text": [
            "Looking in indexes: https://pypi.org/simple, https://us-python.pkg.dev/colab-wheels/public/simple/\n",
            "Looking in links: https://data.pyg.org/whl/torch-1.12.0+cu113.html\n",
            "Collecting torch-scatter\n",
            "  Downloading https://data.pyg.org/whl/torch-1.12.0%2Bcu113/torch_scatter-2.0.9-cp37-cp37m-linux_x86_64.whl (7.9 MB)\n",
            "\u001b[K     |████████████████████████████████| 7.9 MB 4.6 MB/s \n",
            "\u001b[?25hCollecting torch-sparse\n",
            "  Downloading https://data.pyg.org/whl/torch-1.12.0%2Bcu113/torch_sparse-0.6.15-cp37-cp37m-linux_x86_64.whl (3.5 MB)\n",
            "\u001b[K     |████████████████████████████████| 3.5 MB 43.3 MB/s \n",
            "\u001b[?25hCollecting torch-cluster\n",
            "  Downloading https://data.pyg.org/whl/torch-1.12.0%2Bcu113/torch_cluster-1.6.0-cp37-cp37m-linux_x86_64.whl (2.4 MB)\n",
            "\u001b[K     |████████████████████████████████| 2.4 MB 30.0 MB/s \n",
            "\u001b[?25hCollecting torch-spline-conv\n",
            "  Downloading https://data.pyg.org/whl/torch-1.12.0%2Bcu113/torch_spline_conv-1.2.1-cp37-cp37m-linux_x86_64.whl (709 kB)\n",
            "\u001b[K     |████████████████████████████████| 709 kB 35.9 MB/s \n",
            "\u001b[?25hCollecting torch-geometric\n",
            "  Downloading torch_geometric-2.1.0.post1.tar.gz (467 kB)\n",
            "\u001b[K     |████████████████████████████████| 467 kB 5.2 MB/s \n",
            "\u001b[?25hRequirement already satisfied: scipy in /usr/local/lib/python3.7/dist-packages (from torch-sparse) (1.7.3)\n",
            "Requirement already satisfied: tqdm in /usr/local/lib/python3.7/dist-packages (from torch-geometric) (4.64.1)\n",
            "Requirement already satisfied: numpy in /usr/local/lib/python3.7/dist-packages (from torch-geometric) (1.21.6)\n",
            "Requirement already satisfied: jinja2 in /usr/local/lib/python3.7/dist-packages (from torch-geometric) (2.11.3)\n",
            "Requirement already satisfied: requests in /usr/local/lib/python3.7/dist-packages (from torch-geometric) (2.23.0)\n",
            "Requirement already satisfied: pyparsing in /usr/local/lib/python3.7/dist-packages (from torch-geometric) (3.0.9)\n",
            "Requirement already satisfied: scikit-learn in /usr/local/lib/python3.7/dist-packages (from torch-geometric) (1.0.2)\n",
            "Requirement already satisfied: MarkupSafe>=0.23 in /usr/local/lib/python3.7/dist-packages (from jinja2->torch-geometric) (2.0.1)\n",
            "Requirement already satisfied: certifi>=2017.4.17 in /usr/local/lib/python3.7/dist-packages (from requests->torch-geometric) (2022.6.15)\n",
            "Requirement already satisfied: chardet<4,>=3.0.2 in /usr/local/lib/python3.7/dist-packages (from requests->torch-geometric) (3.0.4)\n",
            "Requirement already satisfied: idna<3,>=2.5 in /usr/local/lib/python3.7/dist-packages (from requests->torch-geometric) (2.10)\n",
            "Requirement already satisfied: urllib3!=1.25.0,!=1.25.1,<1.26,>=1.21.1 in /usr/local/lib/python3.7/dist-packages (from requests->torch-geometric) (1.24.3)\n",
            "Requirement already satisfied: joblib>=0.11 in /usr/local/lib/python3.7/dist-packages (from scikit-learn->torch-geometric) (1.1.0)\n",
            "Requirement already satisfied: threadpoolctl>=2.0.0 in /usr/local/lib/python3.7/dist-packages (from scikit-learn->torch-geometric) (3.1.0)\n",
            "Building wheels for collected packages: torch-geometric\n",
            "  Building wheel for torch-geometric (setup.py) ... \u001b[?25l\u001b[?25hdone\n",
            "  Created wheel for torch-geometric: filename=torch_geometric-2.1.0.post1-py3-none-any.whl size=689859 sha256=642e6f91d76d1831e9b475ef29e925d15a3508e9f468b3166c4f7b2ff8aba8c9\n",
            "  Stored in directory: /root/.cache/pip/wheels/d1/cb/43/f7f2e472de4d7cff31bceddadc36d634e1e545fbc17961c282\n",
            "Successfully built torch-geometric\n",
            "Installing collected packages: torch-spline-conv, torch-sparse, torch-scatter, torch-geometric, torch-cluster\n",
            "Successfully installed torch-cluster-1.6.0 torch-geometric-2.1.0.post1 torch-scatter-2.0.9 torch-sparse-0.6.15 torch-spline-conv-1.2.1\n"
          ]
        }
      ],
      "source": [
        "!pip install torch-scatter torch-sparse torch-cluster torch-spline-conv torch-geometric -f https://data.pyg.org/whl/torch-1.12.0+cu113.html"
      ]
    },
    {
      "cell_type": "code",
      "execution_count": null,
      "metadata": {
        "colab": {
          "base_uri": "https://localhost:8080/"
        },
        "id": "IfC6DPoAGJGS",
        "outputId": "712c59d6-1b70-40ca-98e2-ed64b08efbbf"
      },
      "outputs": [
        {
          "output_type": "stream",
          "name": "stdout",
          "text": [
            "Downloading...\n",
            "From: https://drive.google.com/uc?id=1OEpM2j-xwKboMcj3bj9QNT-UbYGaDfr8\n",
            "To: /content/dataset_filtered_normalizado.parquet\n",
            "\r  0% 0.00/7.38M [00:00<?, ?B/s]\r100% 7.38M/7.38M [00:00<00:00, 210MB/s]\n"
          ]
        }
      ],
      "source": [
        "!gdown 1OEpM2j-xwKboMcj3bj9QNT-UbYGaDfr8"
      ]
    },
    {
      "cell_type": "code",
      "execution_count": null,
      "metadata": {
        "id": "iOnlbpyxGe2i"
      },
      "outputs": [],
      "source": [
        "import pandas as pd\n",
        "\n",
        "graph_filtered = pd.read_parquet(\"dataset_filtered_normalizado.parquet\")\n",
        "graph_filtered.reset_index(drop=True, inplace=True)\n",
        "df = graph_filtered[['artist','song','BERT','art_representation','relationships', 'popularity']]\n",
        "\n",
        "threshold = 50\n",
        "\n",
        "df_int = df[df.popularity > threshold]\n",
        "df_out = df[df.popularity <= threshold]\n",
        "\n",
        "df_int['target'] = [1] * len(df[df.popularity > threshold])\n",
        "df_out['target'] = [-1] * len(df[df.popularity <= threshold])\n",
        "\n",
        "graph_filtered = pd.concat([df_int,df_out])\n",
        "\n",
        "graph_filtered.tail()"
      ]
    },
    {
      "cell_type": "markdown",
      "metadata": {
        "id": "KwFwamDdHaWL"
      },
      "source": [
        "# Graph Modeling\n"
      ]
    },
    {
      "cell_type": "code",
      "execution_count": null,
      "metadata": {
        "id": "Yz0Xdb1XGf8o"
      },
      "outputs": [],
      "source": [
        "art_id = {}\n",
        "song_id = {}\n",
        "\n",
        "song_cnt = 0\n",
        "art_cnt = 0\n",
        "for row in graph_filtered.itertuples(index=False):\n",
        "  if f\"{row.artist}_{row.song}\" not in song_id.keys():\n",
        "    song_id.update({f\"{row.artist}_{row.song}\":song_cnt})\n",
        "    song_cnt+=1\n",
        "  if row.artist not in art_id.keys():\n",
        "    art_id.update({row.artist:art_cnt})\n",
        "    art_cnt+=1"
      ]
    },
    {
      "cell_type": "code",
      "execution_count": null,
      "metadata": {
        "id": "akiRETMbGgGQ"
      },
      "outputs": [],
      "source": [
        "songID, artID, relationshipID = [], [], []\n",
        "for row in graph_filtered.itertuples(index=False):\n",
        "  songID.append(song_id[f\"{row.artist}_{row.song}\"])\n",
        "  artID.append(art_id[row.artist])\n",
        "  aux = []\n",
        "  for relationship in row.relationships:\n",
        "    try:    \n",
        "      aux.append(art_id[relationship])\n",
        "    except:      \n",
        "      pass\n",
        "  relationshipID.append(aux)\n",
        "graph_filtered['song_id'] = songID\n",
        "graph_filtered['artist_id'] = artID\n",
        "graph_filtered['relationship_id'] = relationshipID\n",
        "graph_filtered.tail()"
      ]
    },
    {
      "cell_type": "code",
      "execution_count": null,
      "metadata": {
        "id": "V3YHkQ4D4jjL"
      },
      "outputs": [],
      "source": [
        "import random\n",
        "from random import sample\n",
        "from tqdm import tqdm\n",
        "positive_song, negative_song = [], []\n",
        "positive_art, negative_art = [], []\n",
        "\n",
        "random.seed(81)\n",
        "\n",
        "unique_song = list(graph_filtered.song_id.unique())\n",
        "unique_artist = list(graph_filtered.artist_id.unique())\n",
        "\n",
        "for row in graph_filtered.itertuples(index=False):\n",
        "  positive_song.append(row.song_id)\n",
        "  neg_song = sample(unique_song,1)[0]\n",
        "  while neg_song == row.song_id:\n",
        "    neg_song = sample(unique_song,1)[0]\n",
        "  negative_song.append(neg_song)\n",
        "\n",
        "  neg_art = sample(unique_artist,1)[0]\n",
        "  if len(row.relationship_id)>0:\n",
        "    positive_art.append(sample(row.relationship_id,1)[0])\n",
        "  else:\n",
        "    positive_art.append(row.artist_id)\n",
        "  while neg_art == row.artist_id or neg_art in row.relationship_id:\n",
        "    neg_art = sample(unique_artist,1)[0]\n",
        "  negative_art.append(neg_art)\n",
        "\n",
        "graph_filtered[\"positive_song\"] = positive_song\n",
        "graph_filtered[\"negative_song\"] = negative_song\n",
        "graph_filtered[\"positive_artist\"] = positive_art\n",
        "graph_filtered[\"negative_artist\"] = negative_art\n",
        "\n",
        "graph_filtered.tail(5)"
      ]
    },
    {
      "cell_type": "code",
      "execution_count": null,
      "metadata": {
        "id": "bddMgrUVGmXA"
      },
      "outputs": [],
      "source": [
        "import torch\n",
        "\n",
        "\"\"\"def load_node_df(df, index_col, feature_col):\n",
        "  mapping = {index: i for i, index in enumerate(df[index_col].unique())}\n",
        "  x = torch.tensor(df[feature_col], dtype=torch.float32)\n",
        "  return x, mapping\"\"\"\n",
        "\n",
        "\n",
        "def load_node_df(df, index_col, feature_col):\n",
        "  if index_col==\"artist_id\":\n",
        "    mapping = {index: index for i, index in enumerate(df[index_col].unique())}\n",
        "  elif index_col==\"song_id\":\n",
        "    mapping = {index: i for i, index in enumerate(df[index_col].unique())}\n",
        "  x = torch.tensor(df[feature_col], dtype=torch.float32)\n",
        "  return x, mapping"
      ]
    },
    {
      "cell_type": "code",
      "execution_count": null,
      "metadata": {
        "id": "BdxodC5UG3zq"
      },
      "outputs": [],
      "source": [
        "song_x, song_mapping = load_node_df(df=graph_filtered, index_col=\"song_id\", feature_col=\"BERT\")"
      ]
    },
    {
      "cell_type": "code",
      "execution_count": null,
      "metadata": {
        "id": "0LxHgKYZG-5x"
      },
      "outputs": [],
      "source": [
        "art_x, art_mapping = load_node_df(df=graph_filtered, index_col=\"artist_id\", feature_col=\"art_representation\")"
      ]
    },
    {
      "cell_type": "code",
      "execution_count": null,
      "metadata": {
        "id": "QAbeyIb4HAD1"
      },
      "outputs": [],
      "source": [
        "from torch_geometric.data import HeteroData\n",
        "\n",
        "graph_data = HeteroData()\n",
        "\n",
        "graph_data['song'].num_nodes = len(song_mapping) \n",
        "graph_data['song'].x = song_x\n",
        "graph_data['artist'].num_nodes = len(art_mapping) \n",
        "graph_data['artist'].x = art_x \n",
        "\n",
        "print(graph_data)"
      ]
    },
    {
      "cell_type": "code",
      "execution_count": null,
      "metadata": {
        "id": "GbkmOpMNHICp"
      },
      "outputs": [],
      "source": [
        "def load_edge_graph(df, src_index_col, src_mapping, dst_index_col, dst_mapping):\n",
        "  # artist -> song\n",
        "  src = [src_mapping[index] for index in df[src_index_col]]\n",
        "  dst = [dst_mapping[index] for index in df[dst_index_col]]\n",
        "  edge_index = torch.tensor([src, dst])\n",
        "\n",
        "  edge_attr = None\n",
        "  return edge_index, edge_attr"
      ]
    },
    {
      "cell_type": "code",
      "execution_count": null,
      "metadata": {
        "id": "F7sG21W0HItZ"
      },
      "outputs": [],
      "source": [
        "art_song_edge_index, art_song_edge_label = load_edge_graph(\n",
        "    graph_filtered,\n",
        "    src_index_col='artist_id',\n",
        "    src_mapping=art_mapping,\n",
        "    dst_index_col='song_id',\n",
        "    dst_mapping=song_mapping,    \n",
        ")"
      ]
    },
    {
      "cell_type": "code",
      "execution_count": null,
      "metadata": {
        "id": "sKs6-TQ8HK8y"
      },
      "outputs": [],
      "source": [
        "graph_filtered_tmp = graph_filtered.copy()\n",
        "graph_filtered_tmp = graph_filtered_tmp[['artist_id', 'relationship_id']]\n",
        "\n",
        "list_art_id, list_relationship_art_id = [], []\n",
        "for row in graph_filtered_tmp.itertuples(index=False):\n",
        "  for i in row.relationship_id:\n",
        "    list_art_id.append(row.artist_id)\n",
        "    list_relationship_art_id.append(i)\n",
        "graph_filtered_art_related = pd.DataFrame({\"artist_id\":list_art_id, \"related_artist\":list_relationship_art_id})\n",
        "graph_filtered_art_related"
      ]
    },
    {
      "cell_type": "code",
      "execution_count": null,
      "metadata": {
        "id": "GFoLD1izHOaq"
      },
      "outputs": [],
      "source": [
        "art_art_edge_index, art_art_edge_label = load_edge_graph(\n",
        "    graph_filtered_art_related,\n",
        "    src_index_col='artist_id',\n",
        "    src_mapping=art_mapping,\n",
        "    dst_index_col='related_artist',\n",
        "    dst_mapping=art_mapping,    \n",
        ")"
      ]
    },
    {
      "cell_type": "code",
      "execution_count": null,
      "metadata": {
        "id": "T-yDcsV3HPEW"
      },
      "outputs": [],
      "source": [
        "graph_data[\"artist\", \"has\", \"song\"].edge_index = art_song_edge_index\n",
        "graph_data[\"artist\", \"has\", \"song\"].edge_label = art_song_edge_label\n",
        "\n",
        "graph_data[\"artist\", \"connect\", \"artist\"].edge_index = art_art_edge_index\n",
        "graph_data[\"artist\", \"connect\", \"artist\"].edge_label = art_art_edge_label\n",
        "\n",
        "print(graph_data)"
      ]
    },
    {
      "cell_type": "markdown",
      "metadata": {
        "id": "xozFacbxHVoo"
      },
      "source": [
        "# Unsupervised GNN"
      ]
    },
    {
      "cell_type": "code",
      "execution_count": null,
      "metadata": {
        "id": "LHGAae3VHhI-"
      },
      "outputs": [],
      "source": [
        "from torch_geometric.nn import SAGEConv, to_hetero\n",
        "import torch.nn.functional as F\n",
        "import random\n",
        "import numpy as np\n",
        "import torch\n",
        "\n",
        "class GNN(torch.nn.Module):\n",
        "    def __init__(self, hidden_channels, out_channels):\n",
        "        super().__init__()\n",
        "        self.conv1 = SAGEConv((-1, -1), hidden_channels[0])\n",
        "        self.out = SAGEConv((-1, -1), out_channels)\n",
        "        self.n_layers = len(hidden_channels)\n",
        "          \n",
        "        if self.n_layers == 2:\n",
        "          self.conv2 = SAGEConv((-1, -1), hidden_channels[1])\n",
        "        elif self.n_layers == 3:\n",
        "          self.conv2 = SAGEConv((-1, -1), hidden_channels[1])\n",
        "          self.conv3 = SAGEConv((-1, -1), hidden_channels[2])       \n",
        "        elif self.n_layers == 4:\n",
        "          self.conv2 = SAGEConv((-1, -1), hidden_channels[1])\n",
        "          self.conv3 = SAGEConv((-1, -1), hidden_channels[2])        \n",
        "          self.conv4 = SAGEConv((-1, -1), hidden_channels[3])        \n",
        "\n",
        "    def forward(self, x, edge_index):\n",
        "        \n",
        "        x = self.conv1(x, edge_index).tanh()\n",
        "        \n",
        "        if self.n_layers == 2:\n",
        "          x = self.conv2(x, edge_index).tanh()\n",
        "        elif self.n_layers == 3:\n",
        "          x = self.conv2(x, edge_index).tanh()\n",
        "          x = self.conv3(x, edge_index).tanh()\n",
        "        elif self.n_layers == 4:\n",
        "          x = self.conv2(x, edge_index).tanh()\n",
        "          x = self.conv3(x, edge_index).tanh()       \n",
        "          x = self.conv4(x, edge_index).tanh()        \n",
        "        \n",
        "        x = self.out(x, edge_index)\n",
        "        return x\n",
        "\n",
        "def create_GNN(hidden_channels, out_channels, graph_data):\n",
        "  \n",
        "  random.seed(81)\n",
        "  np.random.seed(81)\n",
        "  torch.manual_seed(81)\n",
        "  if torch.cuda.is_available():\n",
        "    torch.cuda.manual_seed(81)\n",
        "\n",
        "  torch.backends.cudnn.benchmark = False\n",
        "  torch.backends.cudnn.deterministic = True\n",
        "\n",
        "  model = GNN(hidden_channels=hidden_channels, out_channels=out_channels)\n",
        "  model = to_hetero(model, graph_data.metadata(), aggr='max')\n",
        "\n",
        "  return model"
      ]
    },
    {
      "cell_type": "code",
      "execution_count": null,
      "metadata": {
        "id": "z-Nwn2vZfQpF"
      },
      "outputs": [],
      "source": [
        "def train_gnn(epochs, lr, hidden_channels, out_channels, graph_data, inductive, test_graph_data, out_graph_data, train_df):\n",
        "\n",
        "  model = create_GNN(hidden_channels, out_channels, graph_data)\n",
        "\n",
        "  optimizer = torch.optim.Adam(model.parameters(), lr=lr)\n",
        "  \n",
        "  list_loss = []\n",
        "  for epoch in range(0, epochs):\n",
        "    loss, emd_song, emd_art = train(0,model,optimizer, graph_data, train_df)    \n",
        "    list_loss.append(loss)\n",
        "  \n",
        "  if inductive:\n",
        "    test_embeddings = model(test_graph_data.x_dict, test_graph_data.edge_index_dict)\n",
        "    out_embeddings = model(out_graph_data.x_dict, out_graph_data.edge_index_dict)\n",
        "    return list_loss, emd_song, emd_art, test_embeddings, out_embeddings\n",
        "  else:\n",
        "    return list_loss, emd_song, emd_art\n",
        "\n",
        "  \n",
        "def train(total_loss, model, optimizer, graph_data, train_df): \n",
        "\n",
        "    model.train()    \n",
        "\n",
        "    optimizer.zero_grad()\n",
        "\n",
        "    out = model(graph_data.x_dict, graph_data.edge_index_dict)    \n",
        "    \n",
        "    out_song = out['song']\n",
        "    pos_out_song = out['song'][train_df.positive_song.tolist()]\n",
        "    neg_out_song = out['song'][train_df.negative_song.tolist()]\n",
        "    \n",
        "    pos_loss = F.logsigmoid((out_song * pos_out_song).sum(-1)).mean()\n",
        "    neg_loss = F.logsigmoid(-(out_song * neg_out_song).sum(-1)).mean()\n",
        "    loss = -pos_loss - neg_loss\n",
        "\n",
        "    out_art = out['artist']\n",
        "    pos_out_art = out['artist'][train_df.positive_artist.tolist()]\n",
        "    neg_out_art = out['artist'][train_df.negative_artist.tolist()]\n",
        "\n",
        "    pos_loss = F.logsigmoid((out_art * pos_out_art).sum(-1)).mean()\n",
        "    neg_loss = F.logsigmoid(-(out_art * neg_out_art).sum(-1)).mean()\n",
        "    loss += -pos_loss - neg_loss\n",
        "    \n",
        "    \n",
        "    loss.backward()\n",
        "    optimizer.step()\n",
        "    total_loss += float(loss) * (out_song.size(0) + out_art.size(0))    \n",
        "\n",
        "    return total_loss / graph_data.num_nodes, out['song'], out['artist']"
      ]
    },
    {
      "cell_type": "markdown",
      "metadata": {
        "id": "TGJsV_Y2_wDV"
      },
      "source": [
        "## Transdutive\n"
      ]
    },
    {
      "cell_type": "code",
      "execution_count": null,
      "metadata": {
        "id": "YMj02xwNfeHz"
      },
      "outputs": [],
      "source": [
        "arq = [128, 64]\n",
        "             \n",
        "output_len = 32\n",
        "\n",
        "lr = 0.0001\n",
        "\n",
        "epoch = 250\n",
        "\n",
        "df_representations = pd.DataFrame(columns=['n_neurons','output_len','lr','epoch','emd_song','emd_art', 'concat'])\n",
        "\n",
        "path = \"./results\"\n",
        "\n",
        "_, emd_song, emd_art = train_gnn(epoch, lr, arq, output_len, graph_data, False, None, None, graph_filtered)\n",
        "\n",
        "song = []\n",
        "for i in emd_song:\n",
        "  song.append(i.cpu().detach().numpy().tolist())\n",
        "\n",
        "art = []\n",
        "for i in emd_art:\n",
        "  art.append(i.cpu().detach().numpy().tolist())\n",
        "\n",
        "concat = []\n",
        "for i, j in zip(song, art):\n",
        "  concat.append(i+j)\n",
        "\n",
        "\n",
        "dic = {'n_neurons': n, 'output_len': out, 'lr': lr, 'epoch': epoch, 'emd_song': song, 'emd_art': art, 'concat': concat}\n",
        "\n",
        "df_representations = df_representations.append(dic, ignore_index = True)\n",
        "\n",
        "df_representations.to_pickle(path + 'df_representations.pkl')"
      ]
    },
    {
      "cell_type": "markdown",
      "metadata": {
        "id": "h3xZS4N6_1R1"
      },
      "source": [
        "## Indutive"
      ]
    },
    {
      "cell_type": "code",
      "execution_count": null,
      "metadata": {
        "colab": {
          "base_uri": "https://localhost:8080/"
        },
        "id": "50b7JiqcvBcT",
        "outputId": "5e618b18-709d-4e39-c84a-4281e437df56"
      },
      "outputs": [
        {
          "output_type": "stream",
          "name": "stdout",
          "text": [
            "Downloading...\n",
            "From: https://drive.google.com/uc?id=1OEpM2j-xwKboMcj3bj9QNT-UbYGaDfr8\n",
            "To: /content/dataset_filtered_normalizado.parquet\n",
            "\r  0% 0.00/7.38M [00:00<?, ?B/s]\r100% 7.38M/7.38M [00:00<00:00, 92.9MB/s]\n"
          ]
        }
      ],
      "source": [
        "!gdown 1OEpM2j-xwKboMcj3bj9QNT-UbYGaDfr8"
      ]
    },
    {
      "cell_type": "code",
      "execution_count": null,
      "metadata": {
        "id": "X6zLUxI8vorv"
      },
      "outputs": [],
      "source": [
        "import pandas as pd\n",
        "\n",
        "def set_label(row):\n",
        "  if row <= 50:\n",
        "    return -1\n",
        "  else:\n",
        "    return 1\n",
        "\n",
        "graph_filtered = pd.read_parquet(\"dataset_filtered_normalizado.parquet\")\n",
        "graph_filtered.reset_index(drop=True, inplace=True)\n",
        "graph_filtered['target'] = graph_filtered.popularity.apply(set_label)\n",
        "graph_filtered = graph_filtered[['artist','song','BERT','art_representation','relationships', 'popularity', \"target\"]]\n",
        "graph_filtered.tail()"
      ]
    },
    {
      "cell_type": "code",
      "execution_count": null,
      "metadata": {
        "id": "3V8lNPsKQteJ"
      },
      "outputs": [],
      "source": [
        "from sklearn.model_selection import train_test_split\n",
        "from torch_geometric.data import HeteroData\n",
        "import torch\n",
        "from sklearn.model_selection import KFold\n",
        "from sklearn.metrics import classification_report\n",
        "from sklearn.svm import OneClassSVM as OCSVM\n",
        "from sklearn.metrics import classification_report\n",
        "from pathlib import Path\n",
        "import numpy as np\n",
        "import random\n",
        "from random import sample\n",
        "from tqdm import tqdm\n",
        "import pandas as pd\n",
        "from gc import collect\n",
        "\n",
        "def create_mapping(df):\n",
        "  art_id = {}\n",
        "  song_id = {}\n",
        "\n",
        "  song_cnt = 0\n",
        "  art_cnt = 0\n",
        "  for row in df.itertuples(index=False):\n",
        "    if f\"{row.artist}_{row.song}\" not in song_id.keys():\n",
        "      song_id.update({f\"{row.artist}_{row.song}\":song_cnt})\n",
        "      song_cnt+=1\n",
        "    if row.artist not in art_id.keys():\n",
        "      art_id.update({row.artist:art_cnt})\n",
        "      art_cnt+=1\n",
        "\n",
        "  songID, artID, relationshipID = [], [], []\n",
        "  for row in df.itertuples(index=False):\n",
        "    songID.append(song_id[f\"{row.artist}_{row.song}\"])\n",
        "    artID.append(art_id[row.artist])\n",
        "    aux = []\n",
        "    for relationship in row.relationships:\n",
        "      try:    \n",
        "        aux.append(art_id[relationship])\n",
        "      except:      \n",
        "        pass\n",
        "    relationshipID.append(aux)\n",
        "\n",
        "  df['song_id'] = songID\n",
        "  df['artist_id'] = artID\n",
        "  df['relationship_id'] = relationshipID\n",
        "  return df\n",
        "\n",
        "def generate_positive_negative(df):\n",
        "\n",
        "  positive_song, negative_song = [], []\n",
        "  positive_art, negative_art = [], []\n",
        "\n",
        "  random.seed(81)\n",
        "\n",
        "  unique_song = list(df.song_id.unique())\n",
        "  unique_artist = list(df.artist_id.unique())\n",
        "\n",
        "  for row in df.itertuples(index=False):\n",
        "    positive_song.append(row.song_id)\n",
        "    neg_song = sample(unique_song,1)[0]\n",
        "    while neg_song == row.song_id:\n",
        "      neg_song = sample(unique_song,1)[0]\n",
        "    negative_song.append(neg_song)\n",
        "\n",
        "    neg_art = sample(unique_artist,1)[0]\n",
        "    if len(row.relationship_id)>0:\n",
        "      positive_art.append(sample(row.relationship_id,1)[0])\n",
        "    else:\n",
        "      positive_art.append(row.artist_id)\n",
        "    while neg_art == row.artist_id or neg_art in row.relationship_id:\n",
        "      neg_art = sample(unique_artist,1)[0]\n",
        "    negative_art.append(neg_art)\n",
        "\n",
        "  df[\"positive_song\"] = positive_song\n",
        "  df[\"negative_song\"] = negative_song\n",
        "  df[\"positive_artist\"] = positive_art\n",
        "  df[\"negative_artist\"] = negative_art\n",
        "\n",
        "  return df\n",
        "\n",
        "def foldValidation(folds):\n",
        "    kf = KFold(n_splits=folds, shuffle=True, random_state=42)\n",
        "    return kf\n",
        "\n",
        "def train_test_split_one_class(kf, df_int):\n",
        "    train_test = []\n",
        "\n",
        "    for train_index, test_index in kf.split(df_int):\n",
        "        train_test.append((df_int.iloc[train_index], df_int.iloc[test_index]))\n",
        "    \n",
        "    return train_test\n",
        "\n",
        "def train_test_pragh_OCL_music(df):\n",
        "  df_out = df[df.target == -1]\n",
        "  df_int = df[df.target == 1]\n",
        "\n",
        "  folds = 5\n",
        "  kf = foldValidation(folds)\n",
        "\n",
        "  train_test = train_test_split_one_class(kf, df_int)\n",
        "\n",
        "  return train_test, df_out\n",
        "\n",
        "def load_node_df(df, index_col, feature_col):\n",
        "  if index_col==\"artist_id\":\n",
        "    mapping = {index: index for i, index in enumerate(df[index_col].unique())}\n",
        "  elif index_col==\"song_id\":\n",
        "    mapping = {index: i for i, index in enumerate(df[index_col].unique())}\n",
        "  x = torch.tensor(df[feature_col].tolist(), dtype=torch.float32)\n",
        "  return x, mapping\n",
        "\n",
        "\n",
        "\"\"\"def load_node_df(df, index_col, feature_col):\n",
        "    mapping = {index: i for i, index in enumerate(df[index_col].unique())}  \n",
        "    x = torch.tensor(df[feature_col].tolist(), dtype=torch.float32)\n",
        "    return x, mapping\"\"\"\n",
        "\n",
        "def get_graph(song_mapping, art_mapping, song_x, art_x):\n",
        "\n",
        "    graph_data = HeteroData()\n",
        "\n",
        "    graph_data['song'].num_nodes = len(song_mapping) \n",
        "    graph_data['song'].x = song_x\n",
        "    graph_data['artist'].num_nodes = len(art_mapping) \n",
        "    graph_data['artist'].x = art_x \n",
        "    return graph_data\n",
        "\n",
        "def load_edge_graph(df, src_index_col, src_mapping, dst_index_col, dst_mapping):\n",
        "    # artist -> song\n",
        "    src = [src_mapping[index] for index in df[src_index_col]]\n",
        "    dst = [dst_mapping[index] for index in df[dst_index_col]]\n",
        "    edge_index = torch.tensor([src, dst])\n",
        "\n",
        "    edge_attr = None\n",
        "    return edge_index, edge_attr\n",
        "\n",
        "def get_graph_filtered_art_related(graph_filtered):\n",
        "    graph_filtered_tmp = graph_filtered.copy()\n",
        "    graph_filtered_tmp = graph_filtered_tmp[['artist_id', 'relationship_id', 'song_id']]\n",
        "\n",
        "    list_art_id, list_relationship_art_id = [], []\n",
        "    unique_art = list(graph_filtered_tmp.artist_id.unique())\n",
        "    for row in graph_filtered_tmp.itertuples(index=False):\n",
        "      for i in row.relationship_id:\n",
        "        if i in unique_art:\n",
        "          list_art_id.append(row.artist_id)\n",
        "          list_relationship_art_id.append(i)\n",
        "    \n",
        "    graph_filtered_art_related = pd.DataFrame({\"artist_id\":list_art_id, \"related_artist\":list_relationship_art_id})\n",
        "    return graph_filtered_art_related\n",
        "\n",
        "def set_learned_features(emd_song, emd_art):\n",
        "  tmp_song = []\n",
        "  for i in emd_song:\n",
        "    tmp_song.append(i.cpu().detach().numpy().tolist())\n",
        "\n",
        "  tmp_art = []\n",
        "  for i in emd_art:\n",
        "    tmp_art.append(i.cpu().detach().numpy().tolist())\n",
        "\n",
        "  tmp_concat = []\n",
        "  for i, j in zip(tmp_song, tmp_art):\n",
        "    tmp_concat.append(i+j)\n",
        "  \n",
        "  return tmp_song, tmp_art, tmp_concat\n",
        "\n",
        "def prepare_for_GNN(train_graph_filtered, test_graph_filtered, out_graph_filtered):\n",
        "  \n",
        "\n",
        "  train_song_x, train_song_mapping = load_node_df(df=train_graph_filtered, index_col=\"song_id\", feature_col=\"BERT\")\n",
        "  train_art_x, train_art_mapping = load_node_df(df=train_graph_filtered, index_col=\"artist_id\", feature_col=\"art_representation\")\n",
        "\n",
        "  test_song_x, test_song_mapping = load_node_df(df=pd.DataFrame(test_graph_filtered), index_col=\"song_id\", feature_col=\"BERT\")\n",
        "  test_art_x, test_art_mapping = load_node_df(df=test_graph_filtered, index_col=\"artist_id\", feature_col=\"art_representation\")\n",
        "\n",
        "  out_song_x, out_song_mapping = load_node_df(df=pd.DataFrame(out_graph_filtered), index_col=\"song_id\", feature_col=\"BERT\")\n",
        "  out_art_x, out_art_mapping = load_node_df(df=out_graph_filtered, index_col=\"artist_id\", feature_col=\"art_representation\")\n",
        "\n",
        "  train_graph_data = get_graph(train_song_mapping, train_art_mapping, train_song_x, train_art_x)\n",
        "  test_graph_data = get_graph(test_song_mapping, test_art_mapping, test_song_x, test_art_x)\n",
        "  out_graph_data = get_graph(out_song_mapping, out_art_mapping, out_song_x, out_art_x)\n",
        "\n",
        "  \n",
        "  train_art_song_edge_index, train_art_song_edge_label = load_edge_graph(\n",
        "      train_graph_filtered,\n",
        "      src_index_col='artist_id',\n",
        "      src_mapping=train_art_mapping,\n",
        "      dst_index_col='song_id',\n",
        "      dst_mapping=train_song_mapping,    \n",
        "  )\n",
        "\n",
        "  test_art_song_edge_index, test_art_song_edge_label = load_edge_graph(\n",
        "      test_graph_filtered,\n",
        "      src_index_col='artist_id',\n",
        "      src_mapping=test_art_mapping,\n",
        "      dst_index_col='song_id',\n",
        "      dst_mapping=test_song_mapping,    \n",
        "  )\n",
        "\n",
        "  out_art_song_edge_index, out_art_song_edge_label = load_edge_graph(\n",
        "      out_graph_filtered,\n",
        "      src_index_col='artist_id',\n",
        "      src_mapping=out_art_mapping,\n",
        "      dst_index_col='song_id',\n",
        "      dst_mapping=out_song_mapping,    \n",
        "  )\n",
        "\n",
        "\n",
        "  train_graph_filtered_art_related = get_graph_filtered_art_related(train_graph_filtered)\n",
        "  test_graph_filtered_art_related = get_graph_filtered_art_related(test_graph_filtered)\n",
        "  out_graph_filtered_art_related = get_graph_filtered_art_related(out_graph_filtered)\n",
        "  \n",
        "  train_art_art_edge_index, train_art_art_edge_label = load_edge_graph(\n",
        "      train_graph_filtered_art_related,\n",
        "      src_index_col='artist_id',\n",
        "      src_mapping=train_art_mapping,\n",
        "      dst_index_col='related_artist',\n",
        "      dst_mapping=train_art_mapping,    \n",
        "  )\n",
        "\n",
        "  test_art_art_edge_index, test_art_art_edge_label = load_edge_graph(\n",
        "      test_graph_filtered_art_related,\n",
        "      src_index_col='artist_id',\n",
        "      src_mapping=test_art_mapping,\n",
        "      dst_index_col='related_artist',\n",
        "      dst_mapping=test_art_mapping,    \n",
        "  )\n",
        "\n",
        "  out_art_art_edge_index, out_art_art_edge_label = load_edge_graph(\n",
        "      out_graph_filtered_art_related,\n",
        "      src_index_col='artist_id',\n",
        "      src_mapping=out_art_mapping,\n",
        "      dst_index_col='related_artist',\n",
        "      dst_mapping=out_art_mapping,    \n",
        "  )\n",
        "\n",
        "  train_graph_data[\"artist\", \"has\", \"song\"].edge_index = train_art_song_edge_index\n",
        "  train_graph_data[\"artist\", \"has\", \"song\"].edge_label = train_art_song_edge_label\n",
        "\n",
        "  train_graph_data[\"artist\", \"connect\", \"artist\"].edge_index = train_art_art_edge_index\n",
        "  train_graph_data[\"artist\", \"connect\", \"artist\"].edge_label = train_art_art_edge_label\n",
        "\n",
        "  test_graph_data[\"artist\", \"has\", \"song\"].edge_index = test_art_song_edge_index\n",
        "  test_graph_data[\"artist\", \"has\", \"song\"].edge_label = test_art_song_edge_label\n",
        "\n",
        "  test_graph_data[\"artist\", \"connect\", \"artist\"].edge_index = test_art_art_edge_index\n",
        "  test_graph_data[\"artist\", \"connect\", \"artist\"].edge_label = test_art_art_edge_label\n",
        "\n",
        "  out_graph_data[\"artist\", \"has\", \"song\"].edge_index = out_art_song_edge_index\n",
        "  out_graph_data[\"artist\", \"has\", \"song\"].edge_label = out_art_song_edge_label\n",
        "\n",
        "  out_graph_data[\"artist\", \"connect\", \"artist\"].edge_index = out_art_art_edge_index\n",
        "  out_graph_data[\"artist\", \"connect\", \"artist\"].edge_label = out_art_art_edge_label\n",
        "\n",
        "  return [train_graph_data, test_graph_data, out_graph_data]\n",
        "\n",
        "def evaluation_one_class(preds_interest, preds_outliers):\n",
        "    y_true = [1] * len(preds_interest) + [-1] * len(preds_outliers)\n",
        "    y_pred = list(preds_interest) + list(preds_outliers)\n",
        "    return classification_report(y_true, y_pred, output_dict=True)\n",
        "\n",
        "def evaluate_model(X_train, X_test, X_outlier, model):\n",
        "\n",
        "    one_class_classifier = model.fit(X_train)\n",
        "\n",
        "    Y_pred_interest = one_class_classifier.predict(X_test)\n",
        "    Y_pred_ruido = one_class_classifier.predict(X_outlier)\n",
        "\n",
        "    return evaluation_one_class(Y_pred_interest, Y_pred_ruido)\n",
        "\n",
        "def evaluate_models(models, representations, file_name, line_parameters, path):\n",
        "\n",
        "    for model in models:\n",
        "        lp = model + '_' + line_parameters\n",
        "        fn = file_name + '_' + model.split('_')[0] + '.csv'\n",
        "        l_values = []\n",
        "\n",
        "        for reps in representations:\n",
        "            values = evaluate_model(reps[0], reps[1], reps[2], models[model])\n",
        "            l_values.append(values)\n",
        "\n",
        "        write_results(l_values, fn, lp, path)\n",
        "\n",
        "def write_results(l_values, file_name, line_parameters, path):\n",
        "    if not Path(path + file_name).is_file():\n",
        "        file_ = open(path + file_name, 'w')\n",
        "        string = 'Parameters'\n",
        "\n",
        "        for i in range(1,6):\n",
        "            string += ';fold' + str(i)\n",
        "        string += '\\n'\n",
        "\n",
        "        file_.write(string)\n",
        "        file_.close()\n",
        "\n",
        "    file_ = open(path + file_name, 'a')\n",
        "    string = line_parameters\n",
        "\n",
        "    for values in l_values:\n",
        "        string += ';' + str(values)\n",
        "\n",
        "    string += '\\n'\n",
        "    file_.write(string)\n",
        "    file_.close()\n",
        "\n",
        "def foldValidation(folds):\n",
        "    kf = KFold(n_splits=folds, shuffle=True, random_state=42)\n",
        "    return kf\n",
        "\n",
        "def train_test_split_one_class(kf, df_int):\n",
        "    train_test = []\n",
        "\n",
        "    for train_index, test_index in kf.split(df_int):\n",
        "        train_test.append((df_int.iloc[train_index], df_int.iloc[test_index]))\n",
        "    \n",
        "    return train_test\n",
        "\n",
        "def dfs(df):\n",
        "    df_out = df[df['target'] == -1]\n",
        "    df_int = df[df['target'] == 1]\n",
        "\n",
        "    folds = 5\n",
        "    kf = foldValidation(folds)\n",
        "\n",
        "    train_test = train_test_split_one_class(kf, df_int)\n",
        "\n",
        "    return train_test, df_out\n"
      ]
    },
    {
      "cell_type": "code",
      "source": [
        "from sklearn.svm import OneClassSVM as OCSVM\n",
        "\n",
        "models = {\n",
        "\t'OCSVM_RBF_0.0001_scale': OCSVM(kernel='rbf', nu=0.0001, gamma='scale'),\n",
        "\t'OCSVM_RBF_0.001_scale': OCSVM(kernel='rbf', nu=0.001, gamma='scale'),\n",
        "\t'OCSVM_RBF_0.005_scale': OCSVM(kernel='rbf', nu=0.005, gamma='scale'),\n",
        "\t'OCSVM_RBF_0.01_scale': OCSVM(kernel='rbf', nu=0.01, gamma='scale'),\n",
        "\t'OCSVM_RBF_0.05_scale': OCSVM(kernel='rbf', nu=0.05, gamma='scale'),\n",
        "\t'OCSVM_RBF_0.1_scale': OCSVM(kernel='rbf', nu=0.1, gamma='scale'),\n",
        "\t'OCSVM_RBF_0.2_scale': OCSVM(kernel='rbf', nu=0.2, gamma='scale'),\n",
        "\t'OCSVM_RBF_0.3_scale': OCSVM(kernel='rbf', nu=0.3, gamma='scale'),\n",
        "\t'OCSVM_RBF_0.4_scale': OCSVM(kernel='rbf', nu=0.4, gamma='scale'),\n",
        "\t'OCSVM_RBF_0.5_scale': OCSVM(kernel='rbf', nu=0.5, gamma='scale'),\n",
        "\t'OCSVM_RBF_0.6_scale': OCSVM(kernel='rbf', nu=0.6, gamma='scale'),\n",
        "\t'OCSVM_RBF_0.7_scale': OCSVM(kernel='rbf', nu=0.7, gamma='scale'),\n",
        "\t'OCSVM_RBF_0.8_scale': OCSVM(kernel='rbf', nu=0.8, gamma='scale'),\n",
        "\t'OCSVM_RBF_0.9_scale': OCSVM(kernel='rbf', nu=0.9, gamma='scale'),\n",
        "\t'OCSVM_RBF_0.0001_auto': OCSVM(kernel='rbf', nu=0.001, gamma='auto'),\n",
        "\t'OCSVM_RBF_0.001_auto': OCSVM(kernel='rbf', nu=0.001, gamma='auto'),\n",
        "\t'OCSVM_RBF_0.005_auto': OCSVM(kernel='rbf', nu=0.005, gamma='auto'),\n",
        "\t'OCSVM_RBF_0.01_auto': OCSVM(kernel='rbf', nu=0.01, gamma='auto'),\n",
        "\t'OCSVM_RBF_0.05_auto': OCSVM(kernel='rbf', nu=0.05, gamma='auto'),\n",
        "\t'OCSVM_RBF_0.1_auto': OCSVM(kernel='rbf', nu=0.1, gamma='auto'),\n",
        "\t'OCSVM_RBF_0.2_auto': OCSVM(kernel='rbf', nu=0.2, gamma='auto'),\n",
        "\t'OCSVM_RBF_0.3_auto': OCSVM(kernel='rbf', nu=0.3, gamma='auto'),\n",
        "\t'OCSVM_RBF_0.4_auto': OCSVM(kernel='rbf', nu=0.4, gamma='auto'),\n",
        "\t'OCSVM_RBF_0.5_auto': OCSVM(kernel='rbf', nu=0.5, gamma='auto'),\n",
        "\t'OCSVM_RBF_0.6_auto': OCSVM(kernel='rbf', nu=0.6, gamma='auto'),\n",
        "\t'OCSVM_RBF_0.7_auto': OCSVM(kernel='rbf', nu=0.7, gamma='auto'),\n",
        "\t'OCSVM_RBF_0.8_auto': OCSVM(kernel='rbf', nu=0.8, gamma='auto'),\n",
        "\t'OCSVM_RBF_0.9_auto': OCSVM(kernel='rbf', nu=0.9, gamma='auto')    \n",
        "}"
      ],
      "metadata": {
        "id": "FmcQD2Onk3wC"
      },
      "execution_count": null,
      "outputs": []
    },
    {
      "cell_type": "code",
      "execution_count": null,
      "metadata": {
        "id": "PK1NRec4imH7"
      },
      "outputs": [],
      "source": [
        "import warnings\n",
        "warnings.filterwarnings('ignore')\n",
        "\n",
        "arq = [128, 64]\n",
        "             \n",
        "output_len = 32\n",
        "\n",
        "lr = 0.0001\n",
        "\n",
        "epoch = 250\n",
        "\n",
        "path = './results/'\n",
        "\n",
        "train_test, df_out  = train_test_pragh_OCL_music(graph_filtered)\n",
        "df_out = create_mapping(df_out)\n",
        "df_out = generate_positive_negative(df_out)\n",
        "train_test_out_graph =[]\n",
        "for df_train, df_test in train_test:\n",
        "  df_train = create_mapping(df_train)\n",
        "  df_test = create_mapping(df_test)\n",
        "  df_train = generate_positive_negative(df_train)\n",
        "  df_test = generate_positive_negative(df_test)\n",
        "\n",
        "  l = prepare_for_GNN(df_train, df_test, df_out)\n",
        "  l.append(df_train)\n",
        "  train_test_out_graph.append(l)\n",
        "\n",
        "representations_song = []\n",
        "representations_song_art = []\n",
        "for train_graph_data, test_graph_data, out_graph_data, df_train in train_test_out_graph:\n",
        "\n",
        "  _, emd_song, emd_art, test_embeddings, out_embeddings = train_gnn(epoch, lr, n, out, train_graph_data, True, test_graph_data, out_graph_data, df_train)\n",
        "\n",
        "  tmp_song_train, tmp_art_train, tmp_concat_train = set_learned_features(emd_song, emd_art)\n",
        "\n",
        "  tmp_song_test, tmp_art_test, tmp_concat_test = set_learned_features(test_embeddings[\"song\"], test_embeddings['artist'])\n",
        "\n",
        "  tmp_song_out, tmp_art_out, tmp_concat_out = set_learned_features(out_embeddings[\"song\"], out_embeddings['artist'])\n",
        "\n",
        "  representations_song.append([tmp_song_train,tmp_song_test,tmp_song_out])\n",
        "  representations_song_art.append([tmp_concat_train,tmp_concat_test,tmp_concat_out])\n",
        "\n",
        "line_parameters = str(n) + '_' + str(out) + '_' + str(lr) + '_' + str(epoch)\n",
        "evaluate_models(models, representations_song, 'GNN-song-Inductive', line_parameters, path)\n",
        "evaluate_models(models, representations_song_art, 'GNN-song-art-Inductive', line_parameters, path)"
      ]
    },
    {
      "cell_type": "markdown",
      "metadata": {
        "id": "Ni-nZuOel8o-"
      },
      "source": [
        "# OCSVM"
      ]
    },
    {
      "cell_type": "code",
      "execution_count": null,
      "metadata": {
        "colab": {
          "base_uri": "https://localhost:8080/"
        },
        "id": "CF9NMMCU_znc",
        "outputId": "dc409750-95f1-4806-d5a8-50422a333a90"
      },
      "outputs": [
        {
          "output_type": "stream",
          "name": "stdout",
          "text": [
            "Downloading...\n",
            "From: https://drive.google.com/uc?id=1GmFv6-6JIYaUAYXKykpjDTAg9DjmOZvH\n",
            "To: /content/df_representations.pkl\n",
            "100% 272M/272M [00:02<00:00, 122MB/s]\n"
          ]
        }
      ],
      "source": [
        "!gdown 1GmFv6-6JIYaUAYXKykpjDTAg9DjmOZvH\n",
        "\n",
        "import pandas as pd\n",
        "\n",
        "df_rep = pd.read_pickle('df_representations.pkl')"
      ]
    },
    {
      "cell_type": "code",
      "execution_count": null,
      "metadata": {
        "id": "H9DLXFYYA01Q"
      },
      "outputs": [],
      "source": [
        "path = './results/'\n",
        "\n",
        "def run(df, graph_filtered, column_1, column_2, file_name, line_parameters):\n",
        "\n",
        "    train_test, df_out = dfs(graph_filtered)\n",
        "\n",
        "    representations= []\n",
        "\n",
        "    for df_train,df_test in train_test:\n",
        "      x_train = df_train[column_1].to_list()\n",
        "      x_test = df_test[column_1].to_list()\n",
        "      x_outlier = df_out[column_1].to_list()\n",
        "\n",
        "      representations.append([x_train,x_test,x_outlier])\n",
        "\n",
        "    evaluate_models(models, representations, file_name, line_parameters, path)"
      ]
    },
    {
      "cell_type": "markdown",
      "metadata": {
        "id": "UMyyC7QaAPK6"
      },
      "source": [
        "## Transdutive GNN"
      ]
    },
    {
      "cell_type": "code",
      "execution_count": null,
      "metadata": {
        "colab": {
          "background_save": true
        },
        "id": "RxnovP7gZmaD"
      },
      "outputs": [],
      "source": [
        "import warnings\n",
        "warnings.filterwarnings('ignore')\n",
        "\n",
        "from tqdm.notebook import tqdm\n",
        "\n",
        "column_1 = 'emb_song_art'\n",
        "column_2 = 'concat'\n",
        "file_name = 'GNN-song-art'\n",
        "\n",
        "pbar = tqdm(range(0, len(df_rep)))\n",
        "\n",
        "for i in pbar:\n",
        "  graph_filtered[column_1] = df_rep.iloc[i][column_2]\n",
        "  line_parameters = str(df_rep.iloc[i][['n_neurons','output_len','lr','epoch']].to_list())\n",
        "  run(df_rep, graph_filtered, column_1,column_2, file_name, line_parameters)"
      ]
    },
    {
      "cell_type": "code",
      "execution_count": null,
      "metadata": {
        "id": "3CGwQgA_Aj3a"
      },
      "outputs": [],
      "source": [
        "import warnings\n",
        "warnings.filterwarnings('ignore')\n",
        "\n",
        "column_1 = 'emb_song'\n",
        "column_2 = 'emd_song'\n",
        "file_name = 'GNN-song'\n",
        "\n",
        "pbar = tqdm(range(0, len(df_rep)))\n",
        "\n",
        "for i in pbar:\n",
        "  graph_filtered[column_1] = df_rep.iloc[i][column_2]\n",
        "  line_parameters = str(df_rep.iloc[i][['n_neurons','output_len','lr','epoch']].to_list())\n",
        "  run(df_rep, graph_filtered, column_1,column_2, file_name, line_parameters)"
      ]
    },
    {
      "cell_type": "markdown",
      "metadata": {
        "id": "CjY0eLNXAVTe"
      },
      "source": [
        "## BERT"
      ]
    },
    {
      "cell_type": "code",
      "execution_count": null,
      "metadata": {
        "id": "qv2szY8XAwWn"
      },
      "outputs": [],
      "source": [
        "column_1 = 'BERT'\n",
        "column_2 = ''\n",
        "file_name = 'BERT'\n",
        "line_parameters = ''\n",
        "\n",
        "run(df, graph_filtered, column_1,column_2, file_name, line_parameters)"
      ]
    },
    {
      "cell_type": "markdown",
      "metadata": {
        "id": "CBFz_wz4AXdX"
      },
      "source": [
        "## BERT + 12 features artist"
      ]
    },
    {
      "cell_type": "code",
      "execution_count": null,
      "metadata": {
        "id": "QyeRyyBtAKgN"
      },
      "outputs": [],
      "source": [
        "BERT_artF = []\n",
        "for index,row in graph_filtered.iterrows():\n",
        "  BERT_artF.append(np.concatenate([row['BERT'],row['art_representation']]))\n",
        "\n",
        "graph_filtered['BERT+ART_F'] = BERT_artF "
      ]
    },
    {
      "cell_type": "code",
      "execution_count": null,
      "metadata": {
        "id": "z9GH4pEfDhT1"
      },
      "outputs": [],
      "source": [
        "column_1 = 'BERT+ART_F'\n",
        "column_2 = ''\n",
        "file_name = 'BERT-ARTF'\n",
        "line_parameters = ''\n",
        "run(df, graph_filtered, column_1,column_2, file_name, line_parameters)"
      ]
    },
    {
      "cell_type": "markdown",
      "metadata": {
        "id": "hmPEJ0dqDzP4"
      },
      "source": [
        "# Results Analysis"
      ]
    },
    {
      "cell_type": "code",
      "execution_count": null,
      "metadata": {
        "id": "SL7edIOxEhxZ"
      },
      "outputs": [],
      "source": [
        "import numpy as np\n",
        "import pandas as pd\n",
        "from sklearn.preprocessing import MinMaxScaler\n",
        "from sklearn.metrics import mean_squared_error as mse\n",
        "from sklearn.metrics import mean_absolute_error as mae\n",
        "from sklearn.metrics import r2_score as r2\n",
        "\n",
        "def show_results(df_result):\n",
        "\n",
        "  dic_avg = {'f1-score' : [[],[]],\n",
        "                'recall' : [[],[]],\n",
        "                'precision' : [[],[]]}\n",
        "\n",
        "  for index,row in df_result.iterrows():\n",
        "    dic_result = {'f1-score' : [],\n",
        "                'recall' : [],\n",
        "                'precision' : []}\n",
        "\n",
        "    for i in range(1,6):\n",
        "      fold = 'fold' + str(i)\n",
        "      for metric in ['f1-score','recall', 'precision']:\n",
        "        dic_result[metric].append(eval(row[fold])['weighted avg'][metric])\n",
        "\n",
        "    for metric in ['f1-score','recall', 'precision']:\n",
        "      dic_avg[metric][0].append(np.mean(dic_result[metric]))\n",
        "      dic_avg[metric][1].append(np.std(dic_result[metric]))\n",
        "\n",
        "  for metric in ['f1-score','recall', 'precision']:\n",
        "    df_result[metric + '-mean'] = dic_avg[metric][0]\n",
        "    df_result[metric + '-std'] = dic_avg[metric][1]\n",
        "\n",
        "  f1_max = max(df_result['f1-score-mean'])\n",
        "\n",
        "  return f1_max\n",
        "\n",
        "def regression_results(ocsvm, df_train, df_test, df_out, column):\n",
        "  distances_train = ocsvm.decision_function(df_train[column].to_list())\n",
        "\n",
        "  distances_int = ocsvm.decision_function(df_test[column].to_list())\n",
        "\n",
        "  distances_out = ocsvm.decision_function(df_out[column].to_list())\n",
        "\n",
        "  total = np.concatenate([distances_train, distances_int, distances_out])\n",
        "\n",
        "  total_geq = total[total >= 0]\n",
        "  total_less = total[total < 0]\n",
        "\n",
        "  minmax_geq = MinMaxScaler(feature_range=(0.5,0.89)).fit(total_geq.reshape(-1, 1))\n",
        "  minmax_less = MinMaxScaler(feature_range=(0,0.5)).fit(total_less.reshape(-1, 1))\n",
        "\n",
        "  predicted_popularity = []\n",
        "\n",
        "  for distances in [distances_int, distances_out]:\n",
        "    for distance in distances:\n",
        "      if distance < 0:\n",
        "        predicted_popularity.append(minmax_less.transform([[distance]])[0][0] * 100)\n",
        "      else:\n",
        "        predicted_popularity.append(minmax_geq.transform([[distance]])[0][0] * 100)\n",
        "\n",
        "  real_popularity = pd.concat([df_test['popularity'], df_out['popularity']]).to_list()\n",
        "  m1 = mse(real_popularity, predicted_popularity)\n",
        "  m2 = mae(real_popularity, predicted_popularity)\n",
        "  m3 = r2(real_popularity, predicted_popularity)\n",
        "  \n",
        "  return m1,m2,m3\n",
        "\n",
        "def metrics_regression(train_test, df_out, column, ocsvm):\n",
        "\n",
        "  l_mae = []\n",
        "  l_mse = []\n",
        "  l_r2 = []\n",
        "\n",
        "  for df_train,df_test in train_test:\n",
        "    x_train = df_train[column].to_list()\n",
        "\n",
        "    ocsvm.fit(x_train)\n",
        "    mae_, mse_, r2_ = regression_results(ocsvm, df_train, df_test, df_out, column)\n",
        "\n",
        "    l_mae.append(mae_)\n",
        "    l_mse.append(mse_)\n",
        "    l_r2.append(r2_)\n",
        "  \n",
        "  return (np.mean(l_mae), np.mean(l_mse), np.mean(l_r2)), (np.std(l_mae), np.std(l_mse), np.std(l_r2))\n",
        "\n",
        "\n",
        "def regression_results_inductive(ocsvm, x_train, x_test, x_out, y_test, y_out):\n",
        "  distances_train = ocsvm.decision_function(x_train)\n",
        "\n",
        "  distances_int = ocsvm.decision_function(x_test)\n",
        "\n",
        "  distances_out = ocsvm.decision_function(x_out)\n",
        "\n",
        "  total = np.concatenate([distances_train, distances_int, distances_out])\n",
        "\n",
        "  total_geq = total[total >= 0]\n",
        "  total_less = total[total < 0]\n",
        "\n",
        "  minmax_geq = MinMaxScaler(feature_range=(0.5,0.89)).fit(total_geq.reshape(-1, 1))\n",
        "  minmax_less = MinMaxScaler(feature_range=(0,0.5)).fit(total_less.reshape(-1, 1))\n",
        "\n",
        "  predicted_popularity = []\n",
        "\n",
        "  for distances in [distances_int, distances_out]:\n",
        "    for distance in distances:\n",
        "      if distance < 0:\n",
        "        predicted_popularity.append(minmax_less.transform([[distance]])[0][0] * 100)\n",
        "      else:\n",
        "        predicted_popularity.append(minmax_geq.transform([[distance]])[0][0] * 100)\n",
        "\n",
        "  real_popularity = pd.concat([y_test, y_out]).to_list()\n",
        "  m1 = mse(real_popularity, predicted_popularity)\n",
        "  m2 = mae(real_popularity, predicted_popularity)\n",
        "  m3 = r2(real_popularity, predicted_popularity)\n",
        "  \n",
        "  return m1,m2,m3\n",
        "\n",
        "def metrics_regression_inductive(reps, ocsvm, popularities):\n",
        "\n",
        "  l_mae = []\n",
        "  l_mse = []\n",
        "  l_r2 = []\n",
        "\n",
        "  i=0\n",
        "  for x_train, x_test, x_out in reps:\n",
        "    y_test = popularities[i][1]\n",
        "    y_out = popularities[i][2]\n",
        "    ocsvm.fit(x_train)\n",
        "\n",
        "    mae_, mse_, r2_ = regression_results_inductive(ocsvm, x_train,x_test,x_out,y_test,y_out)\n",
        "\n",
        "    l_mae.append(mae_)\n",
        "    l_mse.append(mse_)\n",
        "    l_r2.append(r2_)\n",
        "\n",
        "    i+=1\n",
        "  \n",
        "  return (np.mean(l_mae), np.mean(l_mse), np.mean(l_r2)), (np.std(l_mae), np.std(l_mse), np.std(l_r2))"
      ]
    },
    {
      "cell_type": "markdown",
      "metadata": {
        "id": "pDVYEUGJD58S"
      },
      "source": [
        "## BERT"
      ]
    },
    {
      "cell_type": "code",
      "execution_count": null,
      "metadata": {
        "colab": {
          "base_uri": "https://localhost:8080/",
          "height": 264
        },
        "id": "YxJQec2JEfxx",
        "outputId": "cc34538f-f1c2-4b1c-d624-fb71494e2589"
      },
      "outputs": [
        {
          "name": "stdout",
          "output_type": "stream",
          "text": [
            "Downloading...\n",
            "From: https://drive.google.com/uc?id=1-HHur2wgx1Ae889EkkZEfv20HdnCC-Rm\n",
            "To: /content/BERT_OCSVM.csv\n",
            "\r  0% 0.00/73.7k [00:00<?, ?B/s]\r100% 73.7k/73.7k [00:00<00:00, 64.3MB/s]\n"
          ]
        },
        {
          "data": {
            "text/html": [
              "\n",
              "  <div id=\"df-bcf7d5b1-adb8-49cd-8420-139e8214f2d3\">\n",
              "    <div class=\"colab-df-container\">\n",
              "      <div>\n",
              "<style scoped>\n",
              "    .dataframe tbody tr th:only-of-type {\n",
              "        vertical-align: middle;\n",
              "    }\n",
              "\n",
              "    .dataframe tbody tr th {\n",
              "        vertical-align: top;\n",
              "    }\n",
              "\n",
              "    .dataframe thead th {\n",
              "        text-align: right;\n",
              "    }\n",
              "</style>\n",
              "<table border=\"1\" class=\"dataframe\">\n",
              "  <thead>\n",
              "    <tr style=\"text-align: right;\">\n",
              "      <th></th>\n",
              "      <th>Parameters</th>\n",
              "      <th>fold1</th>\n",
              "      <th>fold2</th>\n",
              "      <th>fold3</th>\n",
              "      <th>fold4</th>\n",
              "      <th>fold5</th>\n",
              "      <th>f1-score-mean</th>\n",
              "      <th>f1-score-std</th>\n",
              "      <th>recall-mean</th>\n",
              "      <th>recall-std</th>\n",
              "      <th>precision-mean</th>\n",
              "      <th>precision-std</th>\n",
              "    </tr>\n",
              "  </thead>\n",
              "  <tbody>\n",
              "    <tr>\n",
              "      <th>23</th>\n",
              "      <td>OCSVM_RBF_0.5_auto_</td>\n",
              "      <td>{'-1': {'precision': 0.4943820224719101, 'reca...</td>\n",
              "      <td>{'-1': {'precision': 0.49624060150375937, 'rec...</td>\n",
              "      <td>{'-1': {'precision': 0.4835164835164835, 'reca...</td>\n",
              "      <td>{'-1': {'precision': 0.49624060150375937, 'rec...</td>\n",
              "      <td>{'-1': {'precision': 0.4870848708487085, 'reca...</td>\n",
              "      <td>0.49757</td>\n",
              "      <td>0.005395</td>\n",
              "      <td>0.497568</td>\n",
              "      <td>0.005375</td>\n",
              "      <td>0.497672</td>\n",
              "      <td>0.005311</td>\n",
              "    </tr>\n",
              "  </tbody>\n",
              "</table>\n",
              "</div>\n",
              "      <button class=\"colab-df-convert\" onclick=\"convertToInteractive('df-bcf7d5b1-adb8-49cd-8420-139e8214f2d3')\"\n",
              "              title=\"Convert this dataframe to an interactive table.\"\n",
              "              style=\"display:none;\">\n",
              "        \n",
              "  <svg xmlns=\"http://www.w3.org/2000/svg\" height=\"24px\"viewBox=\"0 0 24 24\"\n",
              "       width=\"24px\">\n",
              "    <path d=\"M0 0h24v24H0V0z\" fill=\"none\"/>\n",
              "    <path d=\"M18.56 5.44l.94 2.06.94-2.06 2.06-.94-2.06-.94-.94-2.06-.94 2.06-2.06.94zm-11 1L8.5 8.5l.94-2.06 2.06-.94-2.06-.94L8.5 2.5l-.94 2.06-2.06.94zm10 10l.94 2.06.94-2.06 2.06-.94-2.06-.94-.94-2.06-.94 2.06-2.06.94z\"/><path d=\"M17.41 7.96l-1.37-1.37c-.4-.4-.92-.59-1.43-.59-.52 0-1.04.2-1.43.59L10.3 9.45l-7.72 7.72c-.78.78-.78 2.05 0 2.83L4 21.41c.39.39.9.59 1.41.59.51 0 1.02-.2 1.41-.59l7.78-7.78 2.81-2.81c.8-.78.8-2.07 0-2.86zM5.41 20L4 18.59l7.72-7.72 1.47 1.35L5.41 20z\"/>\n",
              "  </svg>\n",
              "      </button>\n",
              "      \n",
              "  <style>\n",
              "    .colab-df-container {\n",
              "      display:flex;\n",
              "      flex-wrap:wrap;\n",
              "      gap: 12px;\n",
              "    }\n",
              "\n",
              "    .colab-df-convert {\n",
              "      background-color: #E8F0FE;\n",
              "      border: none;\n",
              "      border-radius: 50%;\n",
              "      cursor: pointer;\n",
              "      display: none;\n",
              "      fill: #1967D2;\n",
              "      height: 32px;\n",
              "      padding: 0 0 0 0;\n",
              "      width: 32px;\n",
              "    }\n",
              "\n",
              "    .colab-df-convert:hover {\n",
              "      background-color: #E2EBFA;\n",
              "      box-shadow: 0px 1px 2px rgba(60, 64, 67, 0.3), 0px 1px 3px 1px rgba(60, 64, 67, 0.15);\n",
              "      fill: #174EA6;\n",
              "    }\n",
              "\n",
              "    [theme=dark] .colab-df-convert {\n",
              "      background-color: #3B4455;\n",
              "      fill: #D2E3FC;\n",
              "    }\n",
              "\n",
              "    [theme=dark] .colab-df-convert:hover {\n",
              "      background-color: #434B5C;\n",
              "      box-shadow: 0px 1px 3px 1px rgba(0, 0, 0, 0.15);\n",
              "      filter: drop-shadow(0px 1px 2px rgba(0, 0, 0, 0.3));\n",
              "      fill: #FFFFFF;\n",
              "    }\n",
              "  </style>\n",
              "\n",
              "      <script>\n",
              "        const buttonEl =\n",
              "          document.querySelector('#df-bcf7d5b1-adb8-49cd-8420-139e8214f2d3 button.colab-df-convert');\n",
              "        buttonEl.style.display =\n",
              "          google.colab.kernel.accessAllowed ? 'block' : 'none';\n",
              "\n",
              "        async function convertToInteractive(key) {\n",
              "          const element = document.querySelector('#df-bcf7d5b1-adb8-49cd-8420-139e8214f2d3');\n",
              "          const dataTable =\n",
              "            await google.colab.kernel.invokeFunction('convertToInteractive',\n",
              "                                                     [key], {});\n",
              "          if (!dataTable) return;\n",
              "\n",
              "          const docLinkHtml = 'Like what you see? Visit the ' +\n",
              "            '<a target=\"_blank\" href=https://colab.research.google.com/notebooks/data_table.ipynb>data table notebook</a>'\n",
              "            + ' to learn more about interactive tables.';\n",
              "          element.innerHTML = '';\n",
              "          dataTable['output_type'] = 'display_data';\n",
              "          await google.colab.output.renderOutput(dataTable, element);\n",
              "          const docLink = document.createElement('div');\n",
              "          docLink.innerHTML = docLinkHtml;\n",
              "          element.appendChild(docLink);\n",
              "        }\n",
              "      </script>\n",
              "    </div>\n",
              "  </div>\n",
              "  "
            ],
            "text/plain": [
              "             Parameters                                              fold1  \\\n",
              "23  OCSVM_RBF_0.5_auto_  {'-1': {'precision': 0.4943820224719101, 'reca...   \n",
              "\n",
              "                                                fold2  \\\n",
              "23  {'-1': {'precision': 0.49624060150375937, 'rec...   \n",
              "\n",
              "                                                fold3  \\\n",
              "23  {'-1': {'precision': 0.4835164835164835, 'reca...   \n",
              "\n",
              "                                                fold4  \\\n",
              "23  {'-1': {'precision': 0.49624060150375937, 'rec...   \n",
              "\n",
              "                                                fold5  f1-score-mean  \\\n",
              "23  {'-1': {'precision': 0.4870848708487085, 'reca...        0.49757   \n",
              "\n",
              "    f1-score-std  recall-mean  recall-std  precision-mean  precision-std  \n",
              "23      0.005395     0.497568    0.005375        0.497672       0.005311  "
            ]
          },
          "execution_count": 58,
          "metadata": {},
          "output_type": "execute_result"
        }
      ],
      "source": [
        "!gdown 1-HHur2wgx1Ae889EkkZEfv20HdnCC-Rm\n",
        "\n",
        "df_bert = pd.read_csv('BERT_OCSVM.csv', sep=';')\n",
        "\n",
        "f1_max = show_results(df_bert)\n",
        "\n",
        "df_bert[df_bert['f1-score-mean'] == f1_max]"
      ]
    },
    {
      "cell_type": "code",
      "execution_count": null,
      "metadata": {
        "colab": {
          "base_uri": "https://localhost:8080/"
        },
        "id": "DoTaN_ir1BCQ",
        "outputId": "5ef51df1-eb1b-43c3-b6b3-b946b09bd787"
      },
      "outputs": [
        {
          "data": {
            "text/plain": [
              "((1012.1945039867596, 25.41068699413478, -0.3171302669360222),\n",
              " (18.89998789626124, 0.27364696322175097, 0.03190108261905054))"
            ]
          },
          "execution_count": 59,
          "metadata": {},
          "output_type": "execute_result"
        }
      ],
      "source": [
        "ocsvm = OCSVM(kernel='rbf', nu=0.5, gamma='auto')\n",
        "\n",
        "train_test, df_out = dfs(graph_filtered)\n",
        "\n",
        "column = 'BERT'\n",
        "\n",
        "metrics_regression(train_test, df_out, column, ocsvm)"
      ]
    },
    {
      "cell_type": "markdown",
      "metadata": {
        "id": "oMbNQNdKD8dH"
      },
      "source": [
        "## BERT + art features\n"
      ]
    },
    {
      "cell_type": "code",
      "execution_count": null,
      "metadata": {
        "colab": {
          "base_uri": "https://localhost:8080/",
          "height": 246
        },
        "id": "r8G_fxvJEgHB",
        "outputId": "22b37bff-52e2-406f-8c32-0a00ccb58518"
      },
      "outputs": [
        {
          "name": "stdout",
          "output_type": "stream",
          "text": [
            "Downloading...\n",
            "From: https://drive.google.com/uc?id=1-I9iXy6QjYU4rN_FYPO11GZbyNwnDLGk\n",
            "To: /content/BERT-ARTF_OCSVM.csv\n",
            "\r  0% 0.00/73.7k [00:00<?, ?B/s]\r100% 73.7k/73.7k [00:00<00:00, 66.1MB/s]\n"
          ]
        },
        {
          "data": {
            "text/html": [
              "\n",
              "  <div id=\"df-b4649d47-04be-4239-a34e-e3b5a1f803b6\">\n",
              "    <div class=\"colab-df-container\">\n",
              "      <div>\n",
              "<style scoped>\n",
              "    .dataframe tbody tr th:only-of-type {\n",
              "        vertical-align: middle;\n",
              "    }\n",
              "\n",
              "    .dataframe tbody tr th {\n",
              "        vertical-align: top;\n",
              "    }\n",
              "\n",
              "    .dataframe thead th {\n",
              "        text-align: right;\n",
              "    }\n",
              "</style>\n",
              "<table border=\"1\" class=\"dataframe\">\n",
              "  <thead>\n",
              "    <tr style=\"text-align: right;\">\n",
              "      <th></th>\n",
              "      <th>Parameters</th>\n",
              "      <th>fold1</th>\n",
              "      <th>fold2</th>\n",
              "      <th>fold3</th>\n",
              "      <th>fold4</th>\n",
              "      <th>fold5</th>\n",
              "      <th>f1-score-mean</th>\n",
              "      <th>f1-score-std</th>\n",
              "      <th>recall-mean</th>\n",
              "      <th>recall-std</th>\n",
              "      <th>precision-mean</th>\n",
              "      <th>precision-std</th>\n",
              "    </tr>\n",
              "  </thead>\n",
              "  <tbody>\n",
              "    <tr>\n",
              "      <th>23</th>\n",
              "      <td>OCSVM_RBF_0.5_auto_</td>\n",
              "      <td>{'-1': {'precision': 0.4943820224719101, 'reca...</td>\n",
              "      <td>{'-1': {'precision': 0.4962686567164179, 'reca...</td>\n",
              "      <td>{'-1': {'precision': 0.4855072463768116, 'reca...</td>\n",
              "      <td>{'-1': {'precision': 0.4981132075471698, 'reca...</td>\n",
              "      <td>{'-1': {'precision': 0.4889705882352941, 'reca...</td>\n",
              "      <td>0.498674</td>\n",
              "      <td>0.004871</td>\n",
              "      <td>0.498691</td>\n",
              "      <td>0.004827</td>\n",
              "      <td>0.498819</td>\n",
              "      <td>0.004743</td>\n",
              "    </tr>\n",
              "  </tbody>\n",
              "</table>\n",
              "</div>\n",
              "      <button class=\"colab-df-convert\" onclick=\"convertToInteractive('df-b4649d47-04be-4239-a34e-e3b5a1f803b6')\"\n",
              "              title=\"Convert this dataframe to an interactive table.\"\n",
              "              style=\"display:none;\">\n",
              "        \n",
              "  <svg xmlns=\"http://www.w3.org/2000/svg\" height=\"24px\"viewBox=\"0 0 24 24\"\n",
              "       width=\"24px\">\n",
              "    <path d=\"M0 0h24v24H0V0z\" fill=\"none\"/>\n",
              "    <path d=\"M18.56 5.44l.94 2.06.94-2.06 2.06-.94-2.06-.94-.94-2.06-.94 2.06-2.06.94zm-11 1L8.5 8.5l.94-2.06 2.06-.94-2.06-.94L8.5 2.5l-.94 2.06-2.06.94zm10 10l.94 2.06.94-2.06 2.06-.94-2.06-.94-.94-2.06-.94 2.06-2.06.94z\"/><path d=\"M17.41 7.96l-1.37-1.37c-.4-.4-.92-.59-1.43-.59-.52 0-1.04.2-1.43.59L10.3 9.45l-7.72 7.72c-.78.78-.78 2.05 0 2.83L4 21.41c.39.39.9.59 1.41.59.51 0 1.02-.2 1.41-.59l7.78-7.78 2.81-2.81c.8-.78.8-2.07 0-2.86zM5.41 20L4 18.59l7.72-7.72 1.47 1.35L5.41 20z\"/>\n",
              "  </svg>\n",
              "      </button>\n",
              "      \n",
              "  <style>\n",
              "    .colab-df-container {\n",
              "      display:flex;\n",
              "      flex-wrap:wrap;\n",
              "      gap: 12px;\n",
              "    }\n",
              "\n",
              "    .colab-df-convert {\n",
              "      background-color: #E8F0FE;\n",
              "      border: none;\n",
              "      border-radius: 50%;\n",
              "      cursor: pointer;\n",
              "      display: none;\n",
              "      fill: #1967D2;\n",
              "      height: 32px;\n",
              "      padding: 0 0 0 0;\n",
              "      width: 32px;\n",
              "    }\n",
              "\n",
              "    .colab-df-convert:hover {\n",
              "      background-color: #E2EBFA;\n",
              "      box-shadow: 0px 1px 2px rgba(60, 64, 67, 0.3), 0px 1px 3px 1px rgba(60, 64, 67, 0.15);\n",
              "      fill: #174EA6;\n",
              "    }\n",
              "\n",
              "    [theme=dark] .colab-df-convert {\n",
              "      background-color: #3B4455;\n",
              "      fill: #D2E3FC;\n",
              "    }\n",
              "\n",
              "    [theme=dark] .colab-df-convert:hover {\n",
              "      background-color: #434B5C;\n",
              "      box-shadow: 0px 1px 3px 1px rgba(0, 0, 0, 0.15);\n",
              "      filter: drop-shadow(0px 1px 2px rgba(0, 0, 0, 0.3));\n",
              "      fill: #FFFFFF;\n",
              "    }\n",
              "  </style>\n",
              "\n",
              "      <script>\n",
              "        const buttonEl =\n",
              "          document.querySelector('#df-b4649d47-04be-4239-a34e-e3b5a1f803b6 button.colab-df-convert');\n",
              "        buttonEl.style.display =\n",
              "          google.colab.kernel.accessAllowed ? 'block' : 'none';\n",
              "\n",
              "        async function convertToInteractive(key) {\n",
              "          const element = document.querySelector('#df-b4649d47-04be-4239-a34e-e3b5a1f803b6');\n",
              "          const dataTable =\n",
              "            await google.colab.kernel.invokeFunction('convertToInteractive',\n",
              "                                                     [key], {});\n",
              "          if (!dataTable) return;\n",
              "\n",
              "          const docLinkHtml = 'Like what you see? Visit the ' +\n",
              "            '<a target=\"_blank\" href=https://colab.research.google.com/notebooks/data_table.ipynb>data table notebook</a>'\n",
              "            + ' to learn more about interactive tables.';\n",
              "          element.innerHTML = '';\n",
              "          dataTable['output_type'] = 'display_data';\n",
              "          await google.colab.output.renderOutput(dataTable, element);\n",
              "          const docLink = document.createElement('div');\n",
              "          docLink.innerHTML = docLinkHtml;\n",
              "          element.appendChild(docLink);\n",
              "        }\n",
              "      </script>\n",
              "    </div>\n",
              "  </div>\n",
              "  "
            ],
            "text/plain": [
              "             Parameters                                              fold1  \\\n",
              "23  OCSVM_RBF_0.5_auto_  {'-1': {'precision': 0.4943820224719101, 'reca...   \n",
              "\n",
              "                                                fold2  \\\n",
              "23  {'-1': {'precision': 0.4962686567164179, 'reca...   \n",
              "\n",
              "                                                fold3  \\\n",
              "23  {'-1': {'precision': 0.4855072463768116, 'reca...   \n",
              "\n",
              "                                                fold4  \\\n",
              "23  {'-1': {'precision': 0.4981132075471698, 'reca...   \n",
              "\n",
              "                                                fold5  f1-score-mean  \\\n",
              "23  {'-1': {'precision': 0.4889705882352941, 'reca...       0.498674   \n",
              "\n",
              "    f1-score-std  recall-mean  recall-std  precision-mean  precision-std  \n",
              "23      0.004871     0.498691    0.004827        0.498819       0.004743  "
            ]
          },
          "execution_count": 87,
          "metadata": {},
          "output_type": "execute_result"
        }
      ],
      "source": [
        "!gdown 1-I9iXy6QjYU4rN_FYPO11GZbyNwnDLGk\n",
        "\n",
        "df_bert_song = pd.read_csv('BERT-ARTF_OCSVM.csv', sep=';')\n",
        "\n",
        "f1_max = show_results(df_bert_song)\n",
        "\n",
        "df_bert_song[df_bert_song['f1-score-mean'] == f1_max]"
      ]
    },
    {
      "cell_type": "code",
      "execution_count": null,
      "metadata": {
        "colab": {
          "base_uri": "https://localhost:8080/"
        },
        "id": "bkR44iOL6FAU",
        "outputId": "80edee79-5b3c-47a3-a65f-19c705c960f0"
      },
      "outputs": [
        {
          "data": {
            "text/plain": [
              "((1010.8974573187563, 25.389208896168153, -0.315437630068791),\n",
              " (19.354805629610645, 0.2774460994166107, 0.03214523491429133))"
            ]
          },
          "execution_count": 62,
          "metadata": {},
          "output_type": "execute_result"
        }
      ],
      "source": [
        "ocsvm = OCSVM(kernel='rbf', nu=0.5, gamma='auto')\n",
        "\n",
        "train_test, df_out = dfs(graph_filtered)\n",
        "\n",
        "column = 'BERT+ART_F'\n",
        "\n",
        "metrics_regression(train_test, df_out, column, ocsvm)"
      ]
    },
    {
      "cell_type": "markdown",
      "metadata": {
        "id": "pzkuwRilEYz_"
      },
      "source": [
        "## GNN song"
      ]
    },
    {
      "cell_type": "code",
      "execution_count": null,
      "metadata": {
        "colab": {
          "base_uri": "https://localhost:8080/",
          "height": 284
        },
        "id": "sGJx_lxWEgfA",
        "outputId": "ee53cd2e-5001-4045-ccb4-6f4fee6ea7c4"
      },
      "outputs": [
        {
          "output_type": "stream",
          "name": "stdout",
          "text": [
            "Downloading...\n",
            "From: https://drive.google.com/uc?id=1-83x5UjlnR3O39yp1ZBThxt-eG5Rn7q-\n",
            "To: /content/GNN-song_OCSVM.csv\n",
            "\r  0% 0.00/14.3M [00:00<?, ?B/s]\r100% 14.3M/14.3M [00:00<00:00, 162MB/s]\n"
          ]
        },
        {
          "output_type": "execute_result",
          "data": {
            "text/plain": [
              "                                             Parameters  \\\n",
              "3410  OCSVM_RBF_0.4_auto_[[256, 128, 64], 16, 0.01, 50]   \n",
              "\n",
              "                                                  fold1  \\\n",
              "3410  {'-1': {'precision': 0.6006825938566553, 'reca...   \n",
              "\n",
              "                                                  fold2  \\\n",
              "3410  {'-1': {'precision': 0.6227106227106227, 'reca...   \n",
              "\n",
              "                                                  fold3  \\\n",
              "3410  {'-1': {'precision': 0.6245353159851301, 'reca...   \n",
              "\n",
              "                                                  fold4  \\\n",
              "3410  {'-1': {'precision': 0.6099290780141844, 'reca...   \n",
              "\n",
              "                                                  fold5  f1-score-mean  \\\n",
              "3410  {'-1': {'precision': 0.6236559139784946, 'reca...       0.627121   \n",
              "\n",
              "      f1-score-std  recall-mean  recall-std  precision-mean  precision-std  \n",
              "3410      0.007166     0.627386    0.006894        0.628162       0.006371  "
            ],
            "text/html": [
              "\n",
              "  <div id=\"df-7e07de89-4a8e-47af-b620-764caf316bfd\">\n",
              "    <div class=\"colab-df-container\">\n",
              "      <div>\n",
              "<style scoped>\n",
              "    .dataframe tbody tr th:only-of-type {\n",
              "        vertical-align: middle;\n",
              "    }\n",
              "\n",
              "    .dataframe tbody tr th {\n",
              "        vertical-align: top;\n",
              "    }\n",
              "\n",
              "    .dataframe thead th {\n",
              "        text-align: right;\n",
              "    }\n",
              "</style>\n",
              "<table border=\"1\" class=\"dataframe\">\n",
              "  <thead>\n",
              "    <tr style=\"text-align: right;\">\n",
              "      <th></th>\n",
              "      <th>Parameters</th>\n",
              "      <th>fold1</th>\n",
              "      <th>fold2</th>\n",
              "      <th>fold3</th>\n",
              "      <th>fold4</th>\n",
              "      <th>fold5</th>\n",
              "      <th>f1-score-mean</th>\n",
              "      <th>f1-score-std</th>\n",
              "      <th>recall-mean</th>\n",
              "      <th>recall-std</th>\n",
              "      <th>precision-mean</th>\n",
              "      <th>precision-std</th>\n",
              "    </tr>\n",
              "  </thead>\n",
              "  <tbody>\n",
              "    <tr>\n",
              "      <th>3410</th>\n",
              "      <td>OCSVM_RBF_0.4_auto_[[256, 128, 64], 16, 0.01, 50]</td>\n",
              "      <td>{'-1': {'precision': 0.6006825938566553, 'reca...</td>\n",
              "      <td>{'-1': {'precision': 0.6227106227106227, 'reca...</td>\n",
              "      <td>{'-1': {'precision': 0.6245353159851301, 'reca...</td>\n",
              "      <td>{'-1': {'precision': 0.6099290780141844, 'reca...</td>\n",
              "      <td>{'-1': {'precision': 0.6236559139784946, 'reca...</td>\n",
              "      <td>0.627121</td>\n",
              "      <td>0.007166</td>\n",
              "      <td>0.627386</td>\n",
              "      <td>0.006894</td>\n",
              "      <td>0.628162</td>\n",
              "      <td>0.006371</td>\n",
              "    </tr>\n",
              "  </tbody>\n",
              "</table>\n",
              "</div>\n",
              "      <button class=\"colab-df-convert\" onclick=\"convertToInteractive('df-7e07de89-4a8e-47af-b620-764caf316bfd')\"\n",
              "              title=\"Convert this dataframe to an interactive table.\"\n",
              "              style=\"display:none;\">\n",
              "        \n",
              "  <svg xmlns=\"http://www.w3.org/2000/svg\" height=\"24px\"viewBox=\"0 0 24 24\"\n",
              "       width=\"24px\">\n",
              "    <path d=\"M0 0h24v24H0V0z\" fill=\"none\"/>\n",
              "    <path d=\"M18.56 5.44l.94 2.06.94-2.06 2.06-.94-2.06-.94-.94-2.06-.94 2.06-2.06.94zm-11 1L8.5 8.5l.94-2.06 2.06-.94-2.06-.94L8.5 2.5l-.94 2.06-2.06.94zm10 10l.94 2.06.94-2.06 2.06-.94-2.06-.94-.94-2.06-.94 2.06-2.06.94z\"/><path d=\"M17.41 7.96l-1.37-1.37c-.4-.4-.92-.59-1.43-.59-.52 0-1.04.2-1.43.59L10.3 9.45l-7.72 7.72c-.78.78-.78 2.05 0 2.83L4 21.41c.39.39.9.59 1.41.59.51 0 1.02-.2 1.41-.59l7.78-7.78 2.81-2.81c.8-.78.8-2.07 0-2.86zM5.41 20L4 18.59l7.72-7.72 1.47 1.35L5.41 20z\"/>\n",
              "  </svg>\n",
              "      </button>\n",
              "      \n",
              "  <style>\n",
              "    .colab-df-container {\n",
              "      display:flex;\n",
              "      flex-wrap:wrap;\n",
              "      gap: 12px;\n",
              "    }\n",
              "\n",
              "    .colab-df-convert {\n",
              "      background-color: #E8F0FE;\n",
              "      border: none;\n",
              "      border-radius: 50%;\n",
              "      cursor: pointer;\n",
              "      display: none;\n",
              "      fill: #1967D2;\n",
              "      height: 32px;\n",
              "      padding: 0 0 0 0;\n",
              "      width: 32px;\n",
              "    }\n",
              "\n",
              "    .colab-df-convert:hover {\n",
              "      background-color: #E2EBFA;\n",
              "      box-shadow: 0px 1px 2px rgba(60, 64, 67, 0.3), 0px 1px 3px 1px rgba(60, 64, 67, 0.15);\n",
              "      fill: #174EA6;\n",
              "    }\n",
              "\n",
              "    [theme=dark] .colab-df-convert {\n",
              "      background-color: #3B4455;\n",
              "      fill: #D2E3FC;\n",
              "    }\n",
              "\n",
              "    [theme=dark] .colab-df-convert:hover {\n",
              "      background-color: #434B5C;\n",
              "      box-shadow: 0px 1px 3px 1px rgba(0, 0, 0, 0.15);\n",
              "      filter: drop-shadow(0px 1px 2px rgba(0, 0, 0, 0.3));\n",
              "      fill: #FFFFFF;\n",
              "    }\n",
              "  </style>\n",
              "\n",
              "      <script>\n",
              "        const buttonEl =\n",
              "          document.querySelector('#df-7e07de89-4a8e-47af-b620-764caf316bfd button.colab-df-convert');\n",
              "        buttonEl.style.display =\n",
              "          google.colab.kernel.accessAllowed ? 'block' : 'none';\n",
              "\n",
              "        async function convertToInteractive(key) {\n",
              "          const element = document.querySelector('#df-7e07de89-4a8e-47af-b620-764caf316bfd');\n",
              "          const dataTable =\n",
              "            await google.colab.kernel.invokeFunction('convertToInteractive',\n",
              "                                                     [key], {});\n",
              "          if (!dataTable) return;\n",
              "\n",
              "          const docLinkHtml = 'Like what you see? Visit the ' +\n",
              "            '<a target=\"_blank\" href=https://colab.research.google.com/notebooks/data_table.ipynb>data table notebook</a>'\n",
              "            + ' to learn more about interactive tables.';\n",
              "          element.innerHTML = '';\n",
              "          dataTable['output_type'] = 'display_data';\n",
              "          await google.colab.output.renderOutput(dataTable, element);\n",
              "          const docLink = document.createElement('div');\n",
              "          docLink.innerHTML = docLinkHtml;\n",
              "          element.appendChild(docLink);\n",
              "        }\n",
              "      </script>\n",
              "    </div>\n",
              "  </div>\n",
              "  "
            ]
          },
          "metadata": {},
          "execution_count": 17
        }
      ],
      "source": [
        "!gdown 1-83x5UjlnR3O39yp1ZBThxt-eG5Rn7q-\n",
        "\n",
        "df_gnn_song = pd.read_csv('GNN-song_OCSVM.csv', sep=';')\n",
        "\n",
        "f1_max = show_results(df_gnn_song)\n",
        "\n",
        "df_gnn_song[df_gnn_song['f1-score-mean'] == f1_max]"
      ]
    },
    {
      "cell_type": "code",
      "execution_count": null,
      "metadata": {
        "colab": {
          "base_uri": "https://localhost:8080/"
        },
        "id": "DjLyjCYq6SzT",
        "outputId": "2e9a716b-a8cb-40f2-a52a-83fa7276f98d"
      },
      "outputs": [
        {
          "output_type": "execute_result",
          "data": {
            "text/plain": [
              "((891.7325717064148, 22.791888231888954, -0.16030990034128534),\n",
              " (10.381181773833712, 0.2099806069243001, 0.018564117449104824))"
            ]
          },
          "metadata": {},
          "execution_count": 27
        }
      ],
      "source": [
        "ocsvm = OCSVM(kernel='rbf', nu=0.4, gamma='auto')\n",
        "\n",
        "column = 'emb_song'\n",
        "\n",
        "graph_filtered['emb_song'] = df_rep[(df_rep.n_neurons.apply(lambda x: x==[256, 128, 64])) & (df_rep.output_len == 16) & (df_rep.lr == 0.01) & (df_rep.epoch == 50)]['emd_song'].iloc[0]\n",
        "\n",
        "train_test, df_out = dfs(graph_filtered)\n",
        "\n",
        "metrics_regression(train_test, df_out, column, ocsvm)"
      ]
    },
    {
      "cell_type": "markdown",
      "metadata": {
        "id": "vaIDXXp7Ec-f"
      },
      "source": [
        "## GNN song art\n"
      ]
    },
    {
      "cell_type": "code",
      "execution_count": null,
      "metadata": {
        "id": "kKCK9-VFD459",
        "colab": {
          "base_uri": "https://localhost:8080/",
          "height": 105
        },
        "outputId": "56845314-b8cf-4206-dc6e-c46d6f409346"
      },
      "outputs": [
        {
          "output_type": "stream",
          "name": "stdout",
          "text": [
            "Downloading...\n",
            "From: https://drive.google.com/uc?id=1-2VWFKuULi3ZhKTBJQicMCCnW6Ch23m0\n",
            "To: /content/GNN-song-art_OCSVM.csv\n",
            "\r  0% 0.00/14.3M [00:00<?, ?B/s]\r100% 14.3M/14.3M [00:00<00:00, 227MB/s]\n"
          ]
        },
        {
          "output_type": "execute_result",
          "data": {
            "text/plain": [
              "'OCSVM_RBF_0.0001_scale_[[256, 128, 64], 32, 0.01, 400]'"
            ],
            "application/vnd.google.colaboratory.intrinsic+json": {
              "type": "string"
            }
          },
          "metadata": {},
          "execution_count": 20
        }
      ],
      "source": [
        "!gdown 1-2VWFKuULi3ZhKTBJQicMCCnW6Ch23m0\n",
        "df_gnn_song_art = pd.read_csv('GNN-song-art_OCSVM.csv', sep=';')\n",
        "\n",
        "f1_max = show_results(df_gnn_song_art)\n",
        "\n",
        "df_gnn_song_art[df_gnn_song_art['f1-score-mean'] == f1_max].Parameters.iloc[0]"
      ]
    },
    {
      "cell_type": "code",
      "execution_count": null,
      "metadata": {
        "colab": {
          "base_uri": "https://localhost:8080/"
        },
        "id": "TiPAp03b7VUc",
        "outputId": "5d3a3653-4fd0-4dcb-943b-08c5bf4259d3"
      },
      "outputs": [
        {
          "output_type": "execute_result",
          "data": {
            "text/plain": [
              "((625.2384392288848, 18.236797914442242, 0.18659308102379912),\n",
              " (31.021454426983123, 0.3055824696834845, 0.03848729966830608))"
            ]
          },
          "metadata": {},
          "execution_count": 28
        }
      ],
      "source": [
        "ocsvm = OCSVM(kernel='rbf', nu=0.0001, gamma='scale')\n",
        "\n",
        "column = 'emb_song_art'\n",
        "\n",
        "graph_filtered['emb_song_art'] = df_rep[(df_rep.n_neurons.apply(lambda x: x==[256, 128, 64])) & (df_rep.output_len == 32) & (df_rep.lr == 0.01) & (df_rep.epoch == 400)]['concat'].iloc[0]\n",
        "\n",
        "train_test, df_out = dfs(graph_filtered)\n",
        "\n",
        "metrics_regression(train_test, df_out, column, ocsvm)"
      ]
    },
    {
      "cell_type": "markdown",
      "metadata": {
        "id": "oKnGGcFBKh48"
      },
      "source": [
        "## GNN indutiva song art\n"
      ]
    },
    {
      "cell_type": "code",
      "execution_count": null,
      "metadata": {
        "colab": {
          "base_uri": "https://localhost:8080/",
          "height": 284
        },
        "id": "t-xUOXOBKk3m",
        "outputId": "640ee8b6-181e-43bf-b7ce-20e58499304b"
      },
      "outputs": [
        {
          "output_type": "stream",
          "name": "stdout",
          "text": [
            "Downloading...\n",
            "From: https://drive.google.com/uc?id=1-5LShCco2QRWS6DpflROOFjUMwbCoJ15\n",
            "To: /content/GNN-song-art-Inductive_OCSVM.csv\n",
            "100% 11.9M/11.9M [00:00<00:00, 32.9MB/s]\n"
          ]
        },
        {
          "output_type": "execute_result",
          "data": {
            "text/plain": [
              "                                         Parameters  \\\n",
              "2850  OCSVM_RBF_0.4_auto_[256, 128, 64]_32_0.01_500   \n",
              "\n",
              "                                                  fold1  \\\n",
              "2850  {'-1': {'precision': 0.5620437956204379, 'reca...   \n",
              "\n",
              "                                                  fold2  \\\n",
              "2850  {'-1': {'precision': 0.5663082437275986, 'reca...   \n",
              "\n",
              "                                                  fold3  \\\n",
              "2850  {'-1': {'precision': 0.5403726708074534, 'reca...   \n",
              "\n",
              "                                                  fold4  \\\n",
              "2850  {'-1': {'precision': 0.5734265734265734, 'reca...   \n",
              "\n",
              "                                                  fold5  f1-score-mean  \\\n",
              "2850  {'-1': {'precision': 0.5677655677655677, 'reca...       0.570939   \n",
              "\n",
              "      f1-score-std  recall-mean  recall-std  precision-mean  precision-std  \n",
              "2850      0.011129     0.572022    0.009598         0.57324       0.008518  "
            ],
            "text/html": [
              "\n",
              "  <div id=\"df-80d67f2f-bcb8-4497-ab74-b28760922428\">\n",
              "    <div class=\"colab-df-container\">\n",
              "      <div>\n",
              "<style scoped>\n",
              "    .dataframe tbody tr th:only-of-type {\n",
              "        vertical-align: middle;\n",
              "    }\n",
              "\n",
              "    .dataframe tbody tr th {\n",
              "        vertical-align: top;\n",
              "    }\n",
              "\n",
              "    .dataframe thead th {\n",
              "        text-align: right;\n",
              "    }\n",
              "</style>\n",
              "<table border=\"1\" class=\"dataframe\">\n",
              "  <thead>\n",
              "    <tr style=\"text-align: right;\">\n",
              "      <th></th>\n",
              "      <th>Parameters</th>\n",
              "      <th>fold1</th>\n",
              "      <th>fold2</th>\n",
              "      <th>fold3</th>\n",
              "      <th>fold4</th>\n",
              "      <th>fold5</th>\n",
              "      <th>f1-score-mean</th>\n",
              "      <th>f1-score-std</th>\n",
              "      <th>recall-mean</th>\n",
              "      <th>recall-std</th>\n",
              "      <th>precision-mean</th>\n",
              "      <th>precision-std</th>\n",
              "    </tr>\n",
              "  </thead>\n",
              "  <tbody>\n",
              "    <tr>\n",
              "      <th>2850</th>\n",
              "      <td>OCSVM_RBF_0.4_auto_[256, 128, 64]_32_0.01_500</td>\n",
              "      <td>{'-1': {'precision': 0.5620437956204379, 'reca...</td>\n",
              "      <td>{'-1': {'precision': 0.5663082437275986, 'reca...</td>\n",
              "      <td>{'-1': {'precision': 0.5403726708074534, 'reca...</td>\n",
              "      <td>{'-1': {'precision': 0.5734265734265734, 'reca...</td>\n",
              "      <td>{'-1': {'precision': 0.5677655677655677, 'reca...</td>\n",
              "      <td>0.570939</td>\n",
              "      <td>0.011129</td>\n",
              "      <td>0.572022</td>\n",
              "      <td>0.009598</td>\n",
              "      <td>0.57324</td>\n",
              "      <td>0.008518</td>\n",
              "    </tr>\n",
              "  </tbody>\n",
              "</table>\n",
              "</div>\n",
              "      <button class=\"colab-df-convert\" onclick=\"convertToInteractive('df-80d67f2f-bcb8-4497-ab74-b28760922428')\"\n",
              "              title=\"Convert this dataframe to an interactive table.\"\n",
              "              style=\"display:none;\">\n",
              "        \n",
              "  <svg xmlns=\"http://www.w3.org/2000/svg\" height=\"24px\"viewBox=\"0 0 24 24\"\n",
              "       width=\"24px\">\n",
              "    <path d=\"M0 0h24v24H0V0z\" fill=\"none\"/>\n",
              "    <path d=\"M18.56 5.44l.94 2.06.94-2.06 2.06-.94-2.06-.94-.94-2.06-.94 2.06-2.06.94zm-11 1L8.5 8.5l.94-2.06 2.06-.94-2.06-.94L8.5 2.5l-.94 2.06-2.06.94zm10 10l.94 2.06.94-2.06 2.06-.94-2.06-.94-.94-2.06-.94 2.06-2.06.94z\"/><path d=\"M17.41 7.96l-1.37-1.37c-.4-.4-.92-.59-1.43-.59-.52 0-1.04.2-1.43.59L10.3 9.45l-7.72 7.72c-.78.78-.78 2.05 0 2.83L4 21.41c.39.39.9.59 1.41.59.51 0 1.02-.2 1.41-.59l7.78-7.78 2.81-2.81c.8-.78.8-2.07 0-2.86zM5.41 20L4 18.59l7.72-7.72 1.47 1.35L5.41 20z\"/>\n",
              "  </svg>\n",
              "      </button>\n",
              "      \n",
              "  <style>\n",
              "    .colab-df-container {\n",
              "      display:flex;\n",
              "      flex-wrap:wrap;\n",
              "      gap: 12px;\n",
              "    }\n",
              "\n",
              "    .colab-df-convert {\n",
              "      background-color: #E8F0FE;\n",
              "      border: none;\n",
              "      border-radius: 50%;\n",
              "      cursor: pointer;\n",
              "      display: none;\n",
              "      fill: #1967D2;\n",
              "      height: 32px;\n",
              "      padding: 0 0 0 0;\n",
              "      width: 32px;\n",
              "    }\n",
              "\n",
              "    .colab-df-convert:hover {\n",
              "      background-color: #E2EBFA;\n",
              "      box-shadow: 0px 1px 2px rgba(60, 64, 67, 0.3), 0px 1px 3px 1px rgba(60, 64, 67, 0.15);\n",
              "      fill: #174EA6;\n",
              "    }\n",
              "\n",
              "    [theme=dark] .colab-df-convert {\n",
              "      background-color: #3B4455;\n",
              "      fill: #D2E3FC;\n",
              "    }\n",
              "\n",
              "    [theme=dark] .colab-df-convert:hover {\n",
              "      background-color: #434B5C;\n",
              "      box-shadow: 0px 1px 3px 1px rgba(0, 0, 0, 0.15);\n",
              "      filter: drop-shadow(0px 1px 2px rgba(0, 0, 0, 0.3));\n",
              "      fill: #FFFFFF;\n",
              "    }\n",
              "  </style>\n",
              "\n",
              "      <script>\n",
              "        const buttonEl =\n",
              "          document.querySelector('#df-80d67f2f-bcb8-4497-ab74-b28760922428 button.colab-df-convert');\n",
              "        buttonEl.style.display =\n",
              "          google.colab.kernel.accessAllowed ? 'block' : 'none';\n",
              "\n",
              "        async function convertToInteractive(key) {\n",
              "          const element = document.querySelector('#df-80d67f2f-bcb8-4497-ab74-b28760922428');\n",
              "          const dataTable =\n",
              "            await google.colab.kernel.invokeFunction('convertToInteractive',\n",
              "                                                     [key], {});\n",
              "          if (!dataTable) return;\n",
              "\n",
              "          const docLinkHtml = 'Like what you see? Visit the ' +\n",
              "            '<a target=\"_blank\" href=https://colab.research.google.com/notebooks/data_table.ipynb>data table notebook</a>'\n",
              "            + ' to learn more about interactive tables.';\n",
              "          element.innerHTML = '';\n",
              "          dataTable['output_type'] = 'display_data';\n",
              "          await google.colab.output.renderOutput(dataTable, element);\n",
              "          const docLink = document.createElement('div');\n",
              "          docLink.innerHTML = docLinkHtml;\n",
              "          element.appendChild(docLink);\n",
              "        }\n",
              "      </script>\n",
              "    </div>\n",
              "  </div>\n",
              "  "
            ]
          },
          "metadata": {},
          "execution_count": 20
        }
      ],
      "source": [
        "!gdown 1-5LShCco2QRWS6DpflROOFjUMwbCoJ15\n",
        "\n",
        "df_gnn_song_art_ind = pd.read_csv('GNN-song-art-Inductive_OCSVM.csv', sep=';')\n",
        "\n",
        "f1_max = show_results(df_gnn_song_art_ind)\n",
        "\n",
        "df_gnn_song_art_ind[df_gnn_song_art_ind['f1-score-mean'] == f1_max]"
      ]
    },
    {
      "cell_type": "code",
      "source": [
        "train_test, df_out  = train_test_pragh_OCL_music(graph_filtered)\n",
        "df_out = create_mapping(df_out)\n",
        "df_out = generate_positive_negative(df_out)\n",
        "train_test_out_graph =[]\n",
        "for df_train, df_test in train_test:\n",
        "  df_train = create_mapping(df_train)\n",
        "  df_test = create_mapping(df_test)\n",
        "  df_train = generate_positive_negative(df_train)\n",
        "  df_test = generate_positive_negative(df_test)\n",
        "\n",
        "  l = prepare_for_GNN(df_train, df_test, df_out)\n",
        "  l.append(df_train)\n",
        "  train_test_out_graph.append(l)"
      ],
      "metadata": {
        "id": "NDKlZTuUcVKS"
      },
      "execution_count": null,
      "outputs": []
    },
    {
      "cell_type": "code",
      "execution_count": null,
      "metadata": {
        "id": "2vV93VLCCkMl"
      },
      "outputs": [],
      "source": [
        "epoch = 500\n",
        "lr = 0.01\n",
        "n = [256, 128, 64]\n",
        "out = 32\n",
        "\n",
        "representations_song_art = []\n",
        "for train_graph_data, test_graph_data, out_graph_data, df_train in train_test_out_graph:\n",
        "  _, emd_song, emd_art, test_embeddings, out_embeddings = train_gnn(epoch, lr, n, out, train_graph_data, True, test_graph_data, out_graph_data, df_train)\n",
        "\n",
        "  tmp_song_train, tmp_art_train, tmp_concat_train = set_learned_features(emd_song, emd_art)\n",
        "\n",
        "  tmp_song_test, tmp_art_test, tmp_concat_test = set_learned_features(test_embeddings[\"song\"], test_embeddings['artist'])\n",
        "\n",
        "  tmp_song_out, tmp_art_out, tmp_concat_out = set_learned_features(out_embeddings[\"song\"], out_embeddings['artist'])\n",
        "\n",
        "  representations_song_art.append([tmp_concat_train, tmp_concat_test,tmp_concat_out])"
      ]
    },
    {
      "cell_type": "code",
      "execution_count": null,
      "metadata": {
        "colab": {
          "base_uri": "https://localhost:8080/"
        },
        "id": "KPqTGpUEFEw-",
        "outputId": "cc87a44b-25a2-48f3-8316-2cc899ccd863"
      },
      "outputs": [
        {
          "output_type": "execute_result",
          "data": {
            "text/plain": [
              "((954.6839443516025, 24.126530155713848, -0.24227241675679476),\n",
              " (27.568451723825707, 0.290163876458278, 0.040006661064793295))"
            ]
          },
          "metadata": {},
          "execution_count": 24
        }
      ],
      "source": [
        "popularities = []\n",
        "for df_train, df_test in train_test:\n",
        "  popularities.append([df_train['popularity'], df_test['popularity'], df_out['popularity']])\n",
        "\n",
        "ocsvm = OCSVM(kernel='rbf', nu=0.4, gamma='auto')\n",
        "\n",
        "metrics_regression_inductive(representations_song_art, ocsvm, popularities)"
      ]
    },
    {
      "cell_type": "markdown",
      "metadata": {
        "id": "fXLPj1DkEsI0"
      },
      "source": [
        "## GNN indutiva song"
      ]
    },
    {
      "cell_type": "code",
      "execution_count": null,
      "metadata": {
        "colab": {
          "base_uri": "https://localhost:8080/",
          "height": 284
        },
        "id": "65sF-MCCE8pu",
        "outputId": "ccbb73c6-f80f-4325-e42a-428257f152fd"
      },
      "outputs": [
        {
          "output_type": "stream",
          "name": "stdout",
          "text": [
            "Downloading...\n",
            "From: https://drive.google.com/uc?id=1EmWXY5MPcdjpaCeOdJB80OsPLNbvGof9\n",
            "To: /content/GNN-song-Inductive_OCSVM.csv\n",
            "\r  0% 0.00/11.8M [00:00<?, ?B/s]\r100% 11.8M/11.8M [00:00<00:00, 193MB/s]\n"
          ]
        },
        {
          "output_type": "execute_result",
          "data": {
            "text/plain": [
              "                                          Parameters  \\\n",
              "2752  OCSVM_RBF_0.4_scale_[256, 128, 64]_32_0.01_100   \n",
              "\n",
              "                                                  fold1  \\\n",
              "2752  {'-1': {'precision': 0.5841584158415841, 'reca...   \n",
              "\n",
              "                                                  fold2  \\\n",
              "2752  {'-1': {'precision': 0.5714285714285714, 'reca...   \n",
              "\n",
              "                                                  fold3  \\\n",
              "2752  {'-1': {'precision': 0.5158227848101266, 'reca...   \n",
              "\n",
              "                                                  fold4  \\\n",
              "2752  {'-1': {'precision': 0.581081081081081, 'recal...   \n",
              "\n",
              "                                                  fold5  f1-score-mean  \\\n",
              "2752  {'-1': {'precision': 0.6181818181818182, 'reca...        0.58567   \n",
              "\n",
              "      f1-score-std  recall-mean  recall-std  precision-mean  precision-std  \n",
              "2752      0.035085     0.587373    0.033868        0.589371        0.03349  "
            ],
            "text/html": [
              "\n",
              "  <div id=\"df-d433f8fe-e1f8-44b4-b14a-cf7ccc15ee10\">\n",
              "    <div class=\"colab-df-container\">\n",
              "      <div>\n",
              "<style scoped>\n",
              "    .dataframe tbody tr th:only-of-type {\n",
              "        vertical-align: middle;\n",
              "    }\n",
              "\n",
              "    .dataframe tbody tr th {\n",
              "        vertical-align: top;\n",
              "    }\n",
              "\n",
              "    .dataframe thead th {\n",
              "        text-align: right;\n",
              "    }\n",
              "</style>\n",
              "<table border=\"1\" class=\"dataframe\">\n",
              "  <thead>\n",
              "    <tr style=\"text-align: right;\">\n",
              "      <th></th>\n",
              "      <th>Parameters</th>\n",
              "      <th>fold1</th>\n",
              "      <th>fold2</th>\n",
              "      <th>fold3</th>\n",
              "      <th>fold4</th>\n",
              "      <th>fold5</th>\n",
              "      <th>f1-score-mean</th>\n",
              "      <th>f1-score-std</th>\n",
              "      <th>recall-mean</th>\n",
              "      <th>recall-std</th>\n",
              "      <th>precision-mean</th>\n",
              "      <th>precision-std</th>\n",
              "    </tr>\n",
              "  </thead>\n",
              "  <tbody>\n",
              "    <tr>\n",
              "      <th>2752</th>\n",
              "      <td>OCSVM_RBF_0.4_scale_[256, 128, 64]_32_0.01_100</td>\n",
              "      <td>{'-1': {'precision': 0.5841584158415841, 'reca...</td>\n",
              "      <td>{'-1': {'precision': 0.5714285714285714, 'reca...</td>\n",
              "      <td>{'-1': {'precision': 0.5158227848101266, 'reca...</td>\n",
              "      <td>{'-1': {'precision': 0.581081081081081, 'recal...</td>\n",
              "      <td>{'-1': {'precision': 0.6181818181818182, 'reca...</td>\n",
              "      <td>0.58567</td>\n",
              "      <td>0.035085</td>\n",
              "      <td>0.587373</td>\n",
              "      <td>0.033868</td>\n",
              "      <td>0.589371</td>\n",
              "      <td>0.03349</td>\n",
              "    </tr>\n",
              "  </tbody>\n",
              "</table>\n",
              "</div>\n",
              "      <button class=\"colab-df-convert\" onclick=\"convertToInteractive('df-d433f8fe-e1f8-44b4-b14a-cf7ccc15ee10')\"\n",
              "              title=\"Convert this dataframe to an interactive table.\"\n",
              "              style=\"display:none;\">\n",
              "        \n",
              "  <svg xmlns=\"http://www.w3.org/2000/svg\" height=\"24px\"viewBox=\"0 0 24 24\"\n",
              "       width=\"24px\">\n",
              "    <path d=\"M0 0h24v24H0V0z\" fill=\"none\"/>\n",
              "    <path d=\"M18.56 5.44l.94 2.06.94-2.06 2.06-.94-2.06-.94-.94-2.06-.94 2.06-2.06.94zm-11 1L8.5 8.5l.94-2.06 2.06-.94-2.06-.94L8.5 2.5l-.94 2.06-2.06.94zm10 10l.94 2.06.94-2.06 2.06-.94-2.06-.94-.94-2.06-.94 2.06-2.06.94z\"/><path d=\"M17.41 7.96l-1.37-1.37c-.4-.4-.92-.59-1.43-.59-.52 0-1.04.2-1.43.59L10.3 9.45l-7.72 7.72c-.78.78-.78 2.05 0 2.83L4 21.41c.39.39.9.59 1.41.59.51 0 1.02-.2 1.41-.59l7.78-7.78 2.81-2.81c.8-.78.8-2.07 0-2.86zM5.41 20L4 18.59l7.72-7.72 1.47 1.35L5.41 20z\"/>\n",
              "  </svg>\n",
              "      </button>\n",
              "      \n",
              "  <style>\n",
              "    .colab-df-container {\n",
              "      display:flex;\n",
              "      flex-wrap:wrap;\n",
              "      gap: 12px;\n",
              "    }\n",
              "\n",
              "    .colab-df-convert {\n",
              "      background-color: #E8F0FE;\n",
              "      border: none;\n",
              "      border-radius: 50%;\n",
              "      cursor: pointer;\n",
              "      display: none;\n",
              "      fill: #1967D2;\n",
              "      height: 32px;\n",
              "      padding: 0 0 0 0;\n",
              "      width: 32px;\n",
              "    }\n",
              "\n",
              "    .colab-df-convert:hover {\n",
              "      background-color: #E2EBFA;\n",
              "      box-shadow: 0px 1px 2px rgba(60, 64, 67, 0.3), 0px 1px 3px 1px rgba(60, 64, 67, 0.15);\n",
              "      fill: #174EA6;\n",
              "    }\n",
              "\n",
              "    [theme=dark] .colab-df-convert {\n",
              "      background-color: #3B4455;\n",
              "      fill: #D2E3FC;\n",
              "    }\n",
              "\n",
              "    [theme=dark] .colab-df-convert:hover {\n",
              "      background-color: #434B5C;\n",
              "      box-shadow: 0px 1px 3px 1px rgba(0, 0, 0, 0.15);\n",
              "      filter: drop-shadow(0px 1px 2px rgba(0, 0, 0, 0.3));\n",
              "      fill: #FFFFFF;\n",
              "    }\n",
              "  </style>\n",
              "\n",
              "      <script>\n",
              "        const buttonEl =\n",
              "          document.querySelector('#df-d433f8fe-e1f8-44b4-b14a-cf7ccc15ee10 button.colab-df-convert');\n",
              "        buttonEl.style.display =\n",
              "          google.colab.kernel.accessAllowed ? 'block' : 'none';\n",
              "\n",
              "        async function convertToInteractive(key) {\n",
              "          const element = document.querySelector('#df-d433f8fe-e1f8-44b4-b14a-cf7ccc15ee10');\n",
              "          const dataTable =\n",
              "            await google.colab.kernel.invokeFunction('convertToInteractive',\n",
              "                                                     [key], {});\n",
              "          if (!dataTable) return;\n",
              "\n",
              "          const docLinkHtml = 'Like what you see? Visit the ' +\n",
              "            '<a target=\"_blank\" href=https://colab.research.google.com/notebooks/data_table.ipynb>data table notebook</a>'\n",
              "            + ' to learn more about interactive tables.';\n",
              "          element.innerHTML = '';\n",
              "          dataTable['output_type'] = 'display_data';\n",
              "          await google.colab.output.renderOutput(dataTable, element);\n",
              "          const docLink = document.createElement('div');\n",
              "          docLink.innerHTML = docLinkHtml;\n",
              "          element.appendChild(docLink);\n",
              "        }\n",
              "      </script>\n",
              "    </div>\n",
              "  </div>\n",
              "  "
            ]
          },
          "metadata": {},
          "execution_count": 13
        }
      ],
      "source": [
        "!gdown 1EmWXY5MPcdjpaCeOdJB80OsPLNbvGof9\n",
        "\n",
        "df_gnn_song_ind = pd.read_csv('GNN-song-Inductive_OCSVM.csv', sep=';')\n",
        "\n",
        "f1_max = show_results(df_gnn_song_ind)\n",
        "\n",
        "df_gnn_song_ind[df_gnn_song_ind['f1-score-mean'] == f1_max]"
      ]
    },
    {
      "cell_type": "code",
      "source": [
        "train_test, df_out  = train_test_pragh_OCL_music(graph_filtered)\n",
        "df_out = create_mapping(df_out)\n",
        "df_out = generate_positive_negative(df_out)\n",
        "train_test_out_graph =[]\n",
        "for df_train, df_test in train_test:\n",
        "  df_train = create_mapping(df_train)\n",
        "  df_test = create_mapping(df_test)\n",
        "  df_train = generate_positive_negative(df_train)\n",
        "  df_test = generate_positive_negative(df_test)\n",
        "\n",
        "  l = prepare_for_GNN(df_train, df_test, df_out)\n",
        "  l.append(df_train)\n",
        "  train_test_out_graph.append(l)"
      ],
      "metadata": {
        "id": "uIJpr_9lJAa7"
      },
      "execution_count": null,
      "outputs": []
    },
    {
      "cell_type": "code",
      "execution_count": null,
      "metadata": {
        "id": "WwXLr--WIJfE"
      },
      "outputs": [],
      "source": [
        "epoch = 100\n",
        "lr = 0.01\n",
        "n = [256, 128, 64]\n",
        "out = 32\n",
        "\n",
        "representations_song = []\n",
        "\n",
        "for train_graph_data, test_graph_data, out_graph_data, df_train in train_test_out_graph:\n",
        "  _, emd_song, emd_art, test_embeddings, out_embeddings = train_gnn(epoch, lr, n, out, train_graph_data, True, test_graph_data, out_graph_data, df_train)\n",
        "\n",
        "  tmp_song_train, tmp_art_train, tmp_concat_train = set_learned_features(emd_song, emd_art)\n",
        "\n",
        "  tmp_song_test, tmp_art_test, tmp_concat_test = set_learned_features(test_embeddings[\"song\"], test_embeddings['artist'])\n",
        "\n",
        "  tmp_song_out, tmp_art_out, tmp_concat_out = set_learned_features(out_embeddings[\"song\"], out_embeddings['artist'])\n",
        "\n",
        "  representations_song.append([tmp_song_train,tmp_song_test,tmp_song_out])"
      ]
    },
    {
      "cell_type": "code",
      "execution_count": null,
      "metadata": {
        "colab": {
          "base_uri": "https://localhost:8080/"
        },
        "id": "tF2_SckNIOS2",
        "outputId": "e01c2646-20ae-48b6-da10-d3b98d93e06c"
      },
      "outputs": [
        {
          "output_type": "execute_result",
          "data": {
            "text/plain": [
              "((980.8785065086342, 24.98490566566649, -0.2759758769178193),\n",
              " (31.620299518077157, 0.5568877846302609, 0.03213786229123085))"
            ]
          },
          "metadata": {},
          "execution_count": 19
        }
      ],
      "source": [
        "popularities = []\n",
        "for df_train, df_test in train_test:\n",
        "  popularities.append([df_train['popularity'], df_test['popularity'], df_out['popularity']])\n",
        "\n",
        "ocsvm = OCSVM(kernel='rbf', nu=0.4, gamma='scale')\n",
        "\n",
        "metrics_regression_inductive(representations_song, ocsvm, popularities)"
      ]
    },
    {
      "cell_type": "markdown",
      "metadata": {
        "id": "SRkNJmmR9mrD"
      },
      "source": [
        "## SVR"
      ]
    },
    {
      "cell_type": "code",
      "execution_count": null,
      "metadata": {
        "id": "yrOLbsxW9rwD"
      },
      "outputs": [],
      "source": [
        "from sklearn.svm import SVR\n",
        "\n",
        "def metrics_regression_svr(train_test, df_out, column):\n",
        "\n",
        "  l_mae = []\n",
        "  l_mse = []\n",
        "  l_r2 = []\n",
        "\n",
        "  for df_train,df_test in train_test:\n",
        "    x_train = df_train[column].to_list()\n",
        "    x_test = df_test[column].to_list()\n",
        "    x_out = df_out[column].to_list()\n",
        "\n",
        "    svr = SVR(C=50, epsilon=0.2)\n",
        "\n",
        "    y_train = df_train['popularity'].to_list()\n",
        "\n",
        "    svr.fit(x_train, y_train)\n",
        "\n",
        "    y_pred_test = svr.predict(x_test)\n",
        "    y_pred_out = svr.predict(x_out)\n",
        "    \n",
        "    real_popularity = pd.concat([df_test['popularity'], df_out['popularity']]).to_list()\n",
        "    predicted_popularity = np.concatenate([y_pred_test,y_pred_out])\n",
        "\n",
        "    m1 = mse(real_popularity, predicted_popularity)\n",
        "    m2 = mae(real_popularity, predicted_popularity)\n",
        "    m3 = r2(real_popularity, predicted_popularity)\n",
        "\n",
        "    l_mae.append(m1)\n",
        "    l_mse.append(m2)\n",
        "    l_r2.append(m3)\n",
        "  \n",
        "  return np.mean(l_mae), np.mean(l_mse), np.mean(l_r2), np.std(l_mae), np.std(l_mse), np.std(l_r2)"
      ]
    },
    {
      "cell_type": "code",
      "execution_count": null,
      "metadata": {
        "colab": {
          "base_uri": "https://localhost:8080/"
        },
        "id": "iNB0d5BtIx7U",
        "outputId": "4a8158aa-1c0d-4171-bf61-f637e407c2ab"
      },
      "outputs": [
        {
          "output_type": "execute_result",
          "data": {
            "text/plain": [
              "(1255.0443720328378,\n",
              " 25.224657763506297,\n",
              " -0.6332318464664995,\n",
              " 11.28455371901567,\n",
              " 0.11569832095889726,\n",
              " 0.033909747026962846)"
            ]
          },
          "metadata": {},
          "execution_count": 190
        }
      ],
      "source": [
        "train_test, df_out = dfs(graph_filtered)\n",
        "\n",
        "column = 'BERT'\n",
        "\n",
        "metrics_regression_svr(train_test, df_out, column)"
      ]
    },
    {
      "cell_type": "code",
      "execution_count": null,
      "metadata": {
        "id": "ud2cXSd4P1GN",
        "colab": {
          "base_uri": "https://localhost:8080/"
        },
        "outputId": "8a7473dc-b7b7-477a-fbcb-5088f3b75e55"
      },
      "outputs": [
        {
          "output_type": "execute_result",
          "data": {
            "text/plain": [
              "(1256.6388992811383,\n",
              " 25.229131216607946,\n",
              " -0.635299214267615,\n",
              " 10.935430647542585,\n",
              " 0.11388676979349352,\n",
              " 0.03337651883386881)"
            ]
          },
          "metadata": {},
          "execution_count": 191
        }
      ],
      "source": [
        "column = 'BERT+ART_F'\n",
        "\n",
        "metrics_regression_svr(train_test, df_out, column)"
      ]
    },
    {
      "cell_type": "code",
      "execution_count": null,
      "metadata": {
        "colab": {
          "base_uri": "https://localhost:8080/"
        },
        "id": "36vjTlrFPuvI",
        "outputId": "6cdf1828-9119-4e22-c13d-40d6a8e976d8"
      },
      "outputs": [
        {
          "output_type": "execute_result",
          "data": {
            "text/plain": [
              "(1255.069578315764,\n",
              " 25.581796310295818,\n",
              " -0.6332380627797158,\n",
              " 8.618644208435542,\n",
              " 0.0969082971687331,\n",
              " 0.031186705499168313)"
            ]
          },
          "metadata": {},
          "execution_count": 192
        }
      ],
      "source": [
        "column = 'emb_song'\n",
        "\n",
        "metrics_regression_svr(train_test, df_out, column)"
      ]
    },
    {
      "cell_type": "code",
      "execution_count": null,
      "metadata": {
        "colab": {
          "base_uri": "https://localhost:8080/"
        },
        "id": "pbU7J66xP5Hn",
        "outputId": "885544b2-6d97-47e7-97e4-7e61ac442a26"
      },
      "outputs": [
        {
          "output_type": "execute_result",
          "data": {
            "text/plain": [
              "(1260.0312016428918,\n",
              " 25.440309699559716,\n",
              " -0.6396637332139317,\n",
              " 7.8672704081390465,\n",
              " 0.16647156588750092,\n",
              " 0.02927322622073044)"
            ]
          },
          "metadata": {},
          "execution_count": 193
        }
      ],
      "source": [
        "column = 'emb_song_art'\n",
        "\n",
        "metrics_regression_svr(train_test, df_out, column)"
      ]
    }
  ],
  "metadata": {
    "colab": {
      "collapsed_sections": [],
      "provenance": []
    },
    "kernelspec": {
      "display_name": "Python 3",
      "name": "python3"
    },
    "language_info": {
      "name": "python"
    }
  },
  "nbformat": 4,
  "nbformat_minor": 0
}